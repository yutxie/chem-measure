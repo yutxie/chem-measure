{
 "cells": [
  {
   "cell_type": "code",
   "execution_count": null,
   "metadata": {},
   "outputs": [],
   "source": [
    "import numpy as np\n",
    "from tqdm import tqdm\n",
    "\n",
    "import rdkit\n",
    "from rdkit import Chem\n",
    "from rdkit.Chem import DataStructs\n",
    "\n",
    "from utils import fingerprint, similarities\n",
    "\n",
    "### read in data\n",
    "\n",
    "suppl = Chem.SDMolSupplier('data/50ActivityClasses_10kCompounds.sdf')\n",
    "mols = [mol for mol in tqdm(suppl)]\n",
    "targs = [mol.GetProp('Target') for mol in mols]\n",
    "\n",
    "### fingerprints and similarities\n",
    "\n",
    "fps = [fingerprint(mol) for mol in tqdm(mols)]\n",
    "sim_mat = np.array([similarities(fp, fps) for fp in tqdm(fps)])"
   ]
  },
  {
   "cell_type": "code",
   "execution_count": null,
   "metadata": {},
   "outputs": [],
   "source": [
    "### hists of similarities\n",
    "\n",
    "n = len(mols)\n",
    "\n",
    "t = np.array(targs).reshape(-1, 1)\n",
    "sim_bio = t == t.T\n",
    "triu = (np.triu(np.ones((n, n))) * (1 - np.eye(n))).astype(bool)\n",
    "same = (sim_bio * triu).astype(bool)\n",
    "diff = ((1 - sim_bio) * triu).astype(bool)\n",
    "\n",
    "sims = sim_mat[triu]\n",
    "sims_same = sim_mat[same]\n",
    "sims_diff = sim_mat[diff]"
   ]
  },
  {
   "cell_type": "code",
   "execution_count": null,
   "metadata": {},
   "outputs": [],
   "source": [
    "print(sims.shape)\n",
    "print(sims_same.shape)\n",
    "print(sims_diff.shape)"
   ]
  },
  {
   "cell_type": "code",
   "execution_count": null,
   "metadata": {},
   "outputs": [],
   "source": [
    "sample_size = int(1e3)\n",
    "# sims_sampled      = np.random.choice(sims,      size=int(5e4))\n",
    "sims_sampled_same = np.random.choice(sims_same, size=int(1e4))\n",
    "sims_sampled_diff = np.random.choice(sims_diff, size=int(1e4))"
   ]
  },
  {
   "cell_type": "code",
   "execution_count": null,
   "metadata": {},
   "outputs": [],
   "source": [
    "import pandas as pd\n",
    "import seaborn as sns\n",
    "import matplotlib.pyplot as plt\n",
    "\n",
    "df = pd.DataFrame({\n",
    "    'same': sims_sampled_same,\n",
    "    'diff': sims_sampled_diff\n",
    "})\n",
    "\n",
    "fig, axs = plt.subplots(2, 1 , figsize=(20,15))\n",
    "sns.set(font_scale=2)\n",
    "\n",
    "ax = sns.histplot(data=df, stat='count', ax=axs[0])\n",
    "ax.set(xlabel='sim', xticks=np.arange(0, 1.1, 0.1))\n",
    "\n",
    "ax = sns.histplot(data=df, stat='count', ax=axs[1])\n",
    "ax.set(xlabel='sim', xticks=np.arange(0, 1.1, 0.1), yscale=\"log\")\n",
    "\n",
    "plt.show()"
   ]
  },
  {
   "cell_type": "code",
   "execution_count": null,
   "metadata": {},
   "outputs": [],
   "source": [
    "### umap visualization\n",
    "\n",
    "import umap\n",
    "\n",
    "mapper = umap.UMAP(metric='precomputed', n_neighbors=50).fit(1 - sim_mat)\n",
    "\n",
    "hover_data = pd.DataFrame({\n",
    "    'index': np.arange(n),\n",
    "    'label': targs\n",
    "})\n",
    "\n",
    "umap.plot.output_notebook()\n",
    "p = umap.plot.interactive(mapper, labels=targs, hover_data=hover_data, point_size=2)\n",
    "umap.plot.show(p)"
   ]
  },
  {
   "cell_type": "code",
   "execution_count": null,
   "metadata": {},
   "outputs": [],
   "source": [
    "### random subsets\n",
    "\n",
    "subset_sizes = range(10, 101, 10)\n",
    "n_run_per_size = 1000\n",
    "\n",
    "n_classes = {\n",
    "    sz : [] for sz in subset_sizes\n",
    "}\n",
    "ntargs = np.array(targs)\n",
    "for size in subset_sizes:\n",
    "    for run in range(n_run_per_size):\n",
    "        ind = np.random.choice(n, size=size)\n",
    "        n_classes[size].append(np.unique(ntargs[ind]).shape[0])"
   ]
  },
  {
   "cell_type": "code",
   "execution_count": null,
   "metadata": {},
   "outputs": [],
   "source": [
    "df = pd.DataFrame(n_classes)\n",
    "\n",
    "plt.figure(figsize=(20, 15))\n",
    "sns.set(font_scale=2)\n",
    "\n",
    "ax = sns.histplot(data=df, stat='count', binwidth=1)\n",
    "ax.set(xlabel='n_class')\n",
    "ax"
   ]
  },
  {
   "cell_type": "code",
   "execution_count": null,
   "metadata": {},
   "outputs": [],
   "source": [
    "# print([(sz, np.var(n_list)) for sz, n_list in n_classes.items()])\n",
    "sns.lineplot(x=n_classes.keys(), y=[np.var(v) for v in n_classes.values()])"
   ]
  },
  {
   "cell_type": "code",
   "execution_count": null,
   "metadata": {},
   "outputs": [],
   "source": [
    "sz = 60\n",
    "n_runs = 10\n",
    "sims_list = []\n",
    "for run in tqdm(range(10)):\n",
    "    ind = np.random.choice(n, size=sz)\n",
    "    fps_ = [fps[i] for i in ind]\n",
    "    sims = np.array([similarities(fp, fps_) for fp in fps_])\n",
    "    \n",
    "    triu = (np.triu(np.ones((sz, sz))) * (1 - np.eye(sz))).astype(bool)\n",
    "    sims_list.append(sims[triu])"
   ]
  },
  {
   "cell_type": "code",
   "execution_count": null,
   "metadata": {},
   "outputs": [],
   "source": [
    "# plt.figure(figsize=(20, 15))\n",
    "sns.set(font_scale=1)\n",
    "\n",
    "ax = sns.histplot(data=sims_list, stat='count', legend=False)\n",
    "ax.set(xlabel='sim', xticks=np.arange(0, 1.1, 0.1))\n",
    "ax"
   ]
  },
  {
   "cell_type": "code",
   "execution_count": null,
   "metadata": {},
   "outputs": [],
   "source": []
  }
 ],
 "metadata": {
  "kernelspec": {
   "display_name": "em",
   "language": "python",
   "name": "em"
  },
  "language_info": {
   "codemirror_mode": {
    "name": "ipython",
    "version": 3
   },
   "file_extension": ".py",
   "mimetype": "text/x-python",
   "name": "python",
   "nbconvert_exporter": "python",
   "pygments_lexer": "ipython3",
   "version": "3.8.5"
  }
 },
 "nbformat": 4,
 "nbformat_minor": 4
}
