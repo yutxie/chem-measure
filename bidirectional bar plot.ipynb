{
 "cells": [
  {
   "cell_type": "code",
   "execution_count": null,
   "id": "0245f7d5",
   "metadata": {},
   "outputs": [],
   "source": [
    "import matplotlib.pyplot as plt\n",
    "import matplotlib as mpl\n",
    "import pandas as pd\n",
    "import seaborn as sns\n",
    "import numpy as np\n",
    "sns.set()\n",
    "%matplotlib notebook"
   ]
  },
  {
   "cell_type": "code",
   "execution_count": null,
   "id": "048484a3",
   "metadata": {},
   "outputs": [],
   "source": [
    "df = pd.read_csv('results/Chemical Space Measure Benchmark - databases qed+sa.csv')"
   ]
  },
  {
   "cell_type": "code",
   "execution_count": null,
   "id": "a7b7eefc",
   "metadata": {},
   "outputs": [],
   "source": [
    "df"
   ]
  },
  {
   "cell_type": "code",
   "execution_count": null,
   "id": "245516c7",
   "metadata": {},
   "outputs": [],
   "source": [
    "df = df[:15]"
   ]
  },
  {
   "cell_type": "code",
   "execution_count": null,
   "id": "85106f44",
   "metadata": {},
   "outputs": [],
   "source": [
    "df_grouped = df.groupby('Database', sort=False)\n",
    "df_grouped"
   ]
  },
  {
   "cell_type": "code",
   "execution_count": null,
   "id": "a49d1a93",
   "metadata": {},
   "outputs": [],
   "source": [
    "font_color = '#525252'\n",
    "hfont = {'fontname':'Calibri'}\n",
    "\n",
    "index = df_grouped.mean().index\n",
    "column0 = 'Richness'\n",
    "column1 = '#Circles (0.75)'\n",
    "column0_val = df_grouped.mean()[column0]\n",
    "column1_val = df_grouped.mean()[column1]"
   ]
  },
  {
   "cell_type": "code",
   "execution_count": null,
   "id": "c63354f8",
   "metadata": {},
   "outputs": [],
   "source": [
    "fig, axes = plt.subplots(figsize=(6,2.5), ncols=2, sharey=True)\n",
    "fig.tight_layout()\n",
    "\n",
    "pal0 = sns.color_palette(\"Reds_d\", 5)\n",
    "rank0 = df_grouped.mean()[column0].argsort().argsort()\n",
    "pal1 = sns.color_palette(\"Greens_d\", 5)\n",
    "rank1 = df_grouped.mean()[column1].argsort().argsort()\n",
    "\n",
    "axes[0].barh(index, column0_val, align='center', color=list(np.array(pal0)[rank0]))\n",
    "axes[1].barh(index, column1_val, align='center', color=list(np.array(pal1)[rank1]), xerr=df_grouped.std()[column1])\n",
    "# sns.barplot(data=df, y='Database', x=column0, hue='Database', orient='h', ax=axes[0], palette=np.array(pal0)[rank0])\n",
    "# sns.barplot(data=df, y='Database', x=column1, hue='Database', orient='h', ax=axes[1], palette=np.array(pal1)[rank1])\n",
    "\n",
    "# axes[0].bar_label(column0_val)\n",
    "\n",
    "axes[0].set(xscale='log', xlabel='Richness')\n",
    "axes[1].set(xscale='log', xlabel='#Circles')\n",
    "axes[1].set_xticks([4e3], minor=True)\n",
    "# axes[1].tick_params(which='both', width=3)\n",
    "axes[1].grid(b=True, which='minor', axis='x')\n",
    "# axes[0].get_xaxis().set_major_formatter(mpl.ticker.ScalarFormatter())\n",
    "# axes[1].get_xaxis().set_major_formatter(mpl.ticker.ScalarFormatter())\n",
    "\n",
    "axes[0].invert_xaxis() \n",
    "plt.gca().invert_yaxis()\n",
    "axes[0].set_ylabel('')\n",
    "axes[1].set_ylabel('')\n",
    "\n",
    "# axes[0].set_title(title0, fontsize=18, pad=15, color=color_red, **hfont)\n",
    "# axes[1].set_title(title1, fontsize=18, pad=15, color=color_blue, **hfont)\n",
    "\n",
    "axes[0].legend().remove()\n",
    "axes[1].legend().remove()\n",
    "\n",
    "plt.subplots_adjust(wspace=0, left=0.2, bottom=0.25)\n",
    "sns.set_style(\"whitegrid\")"
   ]
  },
  {
   "cell_type": "code",
   "execution_count": null,
   "id": "397b49b8",
   "metadata": {},
   "outputs": [],
   "source": [
    "plt.savefig('databases-filtered.pdf', transparent=True)"
   ]
  },
  {
   "cell_type": "code",
   "execution_count": null,
   "id": "0f2e8153",
   "metadata": {},
   "outputs": [],
   "source": []
  }
 ],
 "metadata": {
  "kernelspec": {
   "display_name": "em",
   "language": "python",
   "name": "em"
  },
  "language_info": {
   "codemirror_mode": {
    "name": "ipython",
    "version": 3
   },
   "file_extension": ".py",
   "mimetype": "text/x-python",
   "name": "python",
   "nbconvert_exporter": "python",
   "pygments_lexer": "ipython3",
   "version": "3.8.5"
  }
 },
 "nbformat": 4,
 "nbformat_minor": 5
}
