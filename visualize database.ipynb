{
 "cells": [
  {
   "cell_type": "code",
   "execution_count": null,
   "id": "da5fd128-bda3-4f0f-992d-49d7b83adfbf",
   "metadata": {},
   "outputs": [],
   "source": [
    "import os\n",
    "import rdkit\n",
    "import random\n",
    "import pickle\n",
    "import numpy as np\n",
    "import rdkit.Chem.QED as QED\n",
    "import pandas as pd\n",
    "import seaborn as sns\n",
    "import matplotlib.pyplot as plt\n",
    "from tqdm import tqdm\n",
    "from tqdm.contrib.concurrent import process_map\n",
    "from rdkit import Chem\n",
    "from rdkit.Chem import Draw\n",
    "from rdkit.Chem import AllChem\n",
    "\n",
    "import sa_scorer\n",
    "from measures import *\n",
    "from utils import *"
   ]
  },
  {
   "cell_type": "markdown",
   "id": "03e254b9-6fc7-4111-83b1-11cfc20d8269",
   "metadata": {},
   "source": [
    "## Load data"
   ]
  },
  {
   "cell_type": "code",
   "execution_count": null,
   "id": "9f8577c2-4e71-4056-b35b-1008b9846bec",
   "metadata": {},
   "outputs": [],
   "source": [
    "names = ['ZINC 250k', 'ENAMINE', 'MOSES', 'ChEMBL', 'GDB-17']\n",
    "file_names = ['zinc', 'enamine', 'moses', 'chembl', 'gdb']"
   ]
  },
  {
   "cell_type": "code",
   "execution_count": null,
   "id": "7fb7cd4f-e890-4f67-9f59-03eeba6fd000",
   "metadata": {},
   "outputs": [],
   "source": [
    "mols_all = []\n",
    "labels_all = []\n",
    "mols_dict = dict()\n",
    "\n",
    "for name, file_name in zip(names, file_names):\n",
    "    mols = pickle.load(open('circs_qed_{}.pkl'.format(file_name), 'rb'))\n",
    "    print('loaded', len(mols), 'mols from', name)\n",
    "    mols_all += mols\n",
    "    labels_all += [name] * len(mols)\n",
    "    mols_dict[name] = mols"
   ]
  },
  {
   "cell_type": "code",
   "execution_count": null,
   "id": "98ed3b78-d7fa-4ff2-90e8-e007e2d06f6b",
   "metadata": {},
   "outputs": [],
   "source": [
    "# vecs = process_map(fingerprint, mols_all, chunksize=1000)\n",
    "vecs = mols_all\n",
    "nfps = np.array(vecs)"
   ]
  },
  {
   "cell_type": "code",
   "execution_count": null,
   "id": "272d84e3-5b08-4d3a-8053-a9d662064783",
   "metadata": {},
   "outputs": [],
   "source": [
    "import umap\n",
    "import matplotlib.pyplot as plt\n",
    "from sklearn.decomposition import TruncatedSVD, PCA, KernelPCA\n",
    "from sklearn.manifold import TSNE, MDS\n",
    "\n",
    "# COLORS = ['steelblue', 'darkorange', 'forestgreen']\n",
    "\n",
    "# mapper = umap.UMAP(metric='jaccard', n_neighbors=30, min_dist=0.99)\n",
    "mapper = umap.UMAP(metric = \"jaccard\",\n",
    "                      n_neighbors = 25,\n",
    "                      n_components = 2,\n",
    "                      low_memory = False,\n",
    "                      min_dist = 0.001)\n",
    "# mapper = PCA(n_components=2)\n",
    "# mapper = TruncatedSVD(n_components=2)\n",
    "# mapper = TSNE(n_components=2, perplexity=50)\n",
    "X = mapper.fit_transform(nfps)"
   ]
  },
  {
   "cell_type": "code",
   "execution_count": null,
   "id": "5d2d7ae8-3586-4224-8ad9-75587fba0ed8",
   "metadata": {},
   "outputs": [],
   "source": [
    "idxs = [i for i in range(len(mols_all))]\n",
    "random.shuffle(idxs)\n",
    "X_rnd_ord = X[idxs, :]\n",
    "labels_rnd_ord = [labels_all[i] for i in idxs]"
   ]
  },
  {
   "cell_type": "code",
   "execution_count": null,
   "id": "c394f1de-3786-47df-b869-345e8e8ea29d",
   "metadata": {},
   "outputs": [],
   "source": [
    "plt.figure(figsize=(10, 7))\n",
    "sns.set(font_scale=2)\n",
    "ax = sns.scatterplot(x=X_rnd_ord[:,0], y=X_rnd_ord[:,1], \n",
    "                     linewidth=0, alpha=1, \n",
    "                     s=5,\n",
    "                     hue=labels_rnd_ord,\n",
    "                     style=labels_rnd_ord,\n",
    "                     hue_order=names)\n",
    "ax.set(xticklabels=[])\n",
    "ax.set(yticklabels=[])\n",
    "plt.setp(ax.get_legend().get_texts(), fontsize='10') \n",
    "# plt.scatter()\n",
    "plt.show()"
   ]
  },
  {
   "cell_type": "code",
   "execution_count": null,
   "id": "0504a1e8-6335-44c2-bf7a-cd29b6369ebe",
   "metadata": {},
   "outputs": [],
   "source": []
  },
  {
   "cell_type": "code",
   "execution_count": null,
   "id": "b6e42829-959d-4eb2-93c0-fa90b590d9b2",
   "metadata": {},
   "outputs": [],
   "source": []
  }
 ],
 "metadata": {
  "kernelspec": {
   "display_name": "measure",
   "language": "python",
   "name": "measure"
  },
  "language_info": {
   "codemirror_mode": {
    "name": "ipython",
    "version": 3
   },
   "file_extension": ".py",
   "mimetype": "text/x-python",
   "name": "python",
   "nbconvert_exporter": "python",
   "pygments_lexer": "ipython3",
   "version": "3.10.6"
  }
 },
 "nbformat": 4,
 "nbformat_minor": 5
}
