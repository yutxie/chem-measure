{
 "cells": [
  {
   "cell_type": "code",
   "execution_count": null,
   "metadata": {},
   "outputs": [],
   "source": [
    "import rdkit\n",
    "import random\n",
    "import numpy as np\n",
    "import pandas as pd\n",
    "import matplotlib\n",
    "from tqdm import tqdm\n",
    "from rdkit import Chem\n",
    "from rdkit.Chem import DataStructs\n",
    "\n",
    "from utils import *\n",
    "from measures import *\n",
    "from dataset import Dataset\n",
    "\n",
    "random.seed(42)\n",
    "np.random.seed(42)"
   ]
  },
  {
   "cell_type": "code",
   "execution_count": null,
   "metadata": {},
   "outputs": [],
   "source": [
    "dataset = Dataset('data/50ActivityClasses_10kCompounds.sdf')\n",
    "# dataset = Dataset('data/hgnn_cleaned.sdf')\n",
    "# dataset.load_vecs('data/hgnn_vecs.npy')"
   ]
  },
  {
   "cell_type": "code",
   "execution_count": null,
   "metadata": {
    "scrolled": true
   },
   "outputs": [],
   "source": [
    "def define_measures():\n",
    "    vectorizer = fingerprints\n",
    "    sim_mat_func = similarity_matrix_tanimoto\n",
    "#     vectorizer = lambda mols: latent_vectors(mols, dataset=dataset)\n",
    "#     sim_mat_func = similarity_matrix_latent\n",
    "    measures = {\n",
    "        'GS' : GoldenStandard(),\n",
    "        'Diversity' : Diversity(vectorizer=vectorizer, sim_mat_func=sim_mat_func),\n",
    "        'SumDiversity' : SumDiversity(vectorizer=vectorizer, sim_mat_func=sim_mat_func),\n",
    "        'Diameter' : Diameter(vectorizer=vectorizer, sim_mat_func=sim_mat_func),\n",
    "        'SumDiameter' : SumDiameter(vectorizer=vectorizer, sim_mat_func=sim_mat_func),\n",
    "        'Bottleneck' : Bottleneck(vectorizer=vectorizer, sim_mat_func=sim_mat_func),\n",
    "        'SumBottleneck' : SumBottleneck(vectorizer=vectorizer, sim_mat_func=sim_mat_func),\n",
    "        'DPP' : DPP(vectorizer=vectorizer, sim_mat_func=sim_mat_func),\n",
    "        '#FG' : NFragment(frag='FG'),\n",
    "        '#RS' : NFragment(frag='RS'),\n",
    "        '#BM' : NBM(),\n",
    "        '#Circles': NCircles(vectorizer=vectorizer, sim_mat_func=sim_mat_func, threshold=0.30),\n",
    "        'Richness': Richness(),\n",
    "    }\n",
    "#     THRESHOLDS = np.linspace(.0, 1., num=26)\n",
    "#     for t in THRESHOLDS:\n",
    "#         measures['#Circles (c=%.2f)' % t] = NCircles(\n",
    "#             vectorizer=vectorizer, sim_mat_func=sim_mat_func, threshold=t)\n",
    "    return measures\n",
    "\n",
    "measures = define_measures()\n",
    "for name, measure in measures.items():\n",
    "    measure.update(dataset.mols[:100])\n",
    "    print(name, '\\t', measure.report())"
   ]
  },
  {
   "cell_type": "code",
   "execution_count": null,
   "metadata": {
    "scrolled": true
   },
   "outputs": [],
   "source": [
    "### Setting 1: Random Subsets with Fixed Sizes\n",
    "\n",
    "def sample_fixed_size(n_class, n_mols):\n",
    "    targ_subset = np.random.choice(dataset.targets, size=n_class).tolist()\n",
    "    mols_pool = []\n",
    "    for targ in targ_subset:\n",
    "        mols_pool += dataset.targ2idxs[targ]\n",
    "    random.shuffle(mols_pool)\n",
    "    subset = [dataset.mols[i] for i in mols_pool[:n_mols]]\n",
    "    return subset\n",
    "\n",
    "def random_subset_fixed_size(size=200, n_points=1000, n_runs=10):\n",
    "    df = pd.DataFrame(columns=['value', 'measure', 'run'])\n",
    "    \n",
    "    for run in tqdm(range(n_runs)):\n",
    "        for _ in range(n_points):\n",
    "            n_class = np.random.randint(1, 50)\n",
    "            subset = sample_fixed_size(n_class, size)\n",
    "            measures = define_measures()\n",
    "            for name, measure in measures.items():\n",
    "                measure.update(subset)\n",
    "                df.loc[df.shape[0]] = [measure.report(), name, run]\n",
    "    return df"
   ]
  },
  {
   "cell_type": "code",
   "execution_count": null,
   "metadata": {
    "scrolled": true
   },
   "outputs": [],
   "source": [
    "# df = random_subset_fixed_size(size=200, n_runs=10) # size = 50, 200, 1000\n",
    "# df.to_csv('random_subset_fixed_size=200_fp.csv')\n",
    "df = pd.read_csv('random_subset_fixed_size=200_fp.csv')\n",
    "df"
   ]
  },
  {
   "cell_type": "code",
   "execution_count": null,
   "metadata": {},
   "outputs": [],
   "source": [
    "df.loc[df['measure'] == '#Circles (0.35)', 'measure'] = '#Circles'\n",
    "df"
   ]
  },
  {
   "cell_type": "code",
   "execution_count": null,
   "metadata": {},
   "outputs": [],
   "source": [
    "# correlation\n",
    "\n",
    "import seaborn as sns\n",
    "import matplotlib.pyplot as plt\n",
    "from scipy.stats import spearmanr as cor\n",
    "\n",
    "def correlation(df, pairwise=False):\n",
    "    names = list(define_measures().keys())\n",
    "    m = len(names)\n",
    "    n_runs = df.iloc[-1]['run'] + 1\n",
    "    Cor = np.zeros((m, m, n_runs))\n",
    "    P = np.zeros((m, m, n_runs))\n",
    "    for i, name_i in enumerate(names):\n",
    "        if not pairwise and i > 0: continue\n",
    "        for j, name_j in enumerate(names):\n",
    "            for run in range(n_runs):\n",
    "                a = df[(df['measure'] == name_i) & (df['run'] == run)]['value']\n",
    "                b = df[(df['measure'] == name_j) & (df['run'] == run)]['value']\n",
    "                Cor[i,j,run], P[i,j,run] = cor(a, b)\n",
    "    return Cor\n",
    "\n",
    "def plot_bar(df, ticks=True):\n",
    "    Cor = correlation(df)\n",
    "    \n",
    "    n_runs = df.iloc[-1]['run'] + 1\n",
    "    names = list(define_measures().keys())\n",
    "    df_bar_plot = pd.DataFrame(columns=['measure', 'value'])\n",
    "    for j, name_j in enumerate(names):\n",
    "        if j == 0: continue\n",
    "        for run in range(n_runs):\n",
    "            df_bar_plot.loc[len(df_bar_plot)] = [name_j, Cor[0,j,run]]\n",
    "                \n",
    "    fig = plt.figure(figsize=(8, 4))\n",
    "    sns.set(font_scale=1.5)\n",
    "    sns.set_style(\"whitegrid\")\n",
    "    cls = ['#D9D9D9'] * (len(names) - 1)\n",
    "    cls[-2] = '#C0E9A2'\n",
    "    ax = sns.barplot(y='measure', x='value', data=df_bar_plot, palette=cls, orient='h')\n",
    "    ax.set(ylabel=None)\n",
    "    ax.set(xlabel='Correlation')\n",
    "    if not ticks: ax.set_xticks([])\n",
    "    ax.set(xlim=(-0.3, 1.0))\n",
    "    ax.xaxis.set_major_locator(matplotlib.ticker.MultipleLocator(0.2))\n",
    "    plt.show()\n",
    "    fig.savefig('fig.pdf', bbox_inches='tight')\n",
    "    \n",
    "def plot_t(df):\n",
    "    Cor = correlation(df)\n",
    "    \n",
    "    n_runs = df.iloc[-1]['run'] + 1\n",
    "    names = list(define_measures().keys())\n",
    "    df_bar_plot = pd.DataFrame(columns=['threshold', 'value'])\n",
    "    for j, name_j in enumerate(names):\n",
    "        if j == 0: continue\n",
    "        t = float(name_j[-5:-1])\n",
    "        t = 1. - t\n",
    "        for run in range(n_runs):\n",
    "            df_bar_plot.loc[len(df_bar_plot)] = [t, Cor[0,j,run]]\n",
    "    \n",
    "    fig = plt.figure(figsize=(8, 4))\n",
    "    sns.set(font_scale=1.5)\n",
    "    sns.set_style(\"whitegrid\")\n",
    "    ax = sns.lineplot(x='threshold', y='value', data=df_bar_plot)\n",
    "    ax.set(ylabel='Correlation')\n",
    "    ax.set(xlabel='Threshold t')\n",
    "#     ax.set(xlim=(0., 1.))\n",
    "    ax.xaxis.set_major_locator(matplotlib.ticker.MultipleLocator(0.1))\n",
    "    fig.savefig('fig.pdf', bbox_inches='tight')\n",
    "                \n",
    "def plot_cor(df, Cor=None):\n",
    "    if Cor is None: \n",
    "        Cor = correlation(df, pairwise=True)\n",
    "    names = list(define_measures().keys())\n",
    "    \n",
    "    fig = plt.figure(figsize=(10, 10))\n",
    "    sns.set(font_scale=1.5)\n",
    "    g = sns.clustermap(\n",
    "        Cor.mean(axis=-1), \n",
    "        vmin=-1, vmax=1, center=0, \n",
    "        annot=False, xticklabels=names, yticklabels=names, fmt='.2f')\n",
    "    ax = g.ax_heatmap\n",
    "    ax.tick_params(axis='x', rotation=90)\n",
    "    plt.show()\n",
    "    fig = ax.get_figure()\n",
    "    fig.savefig('fig.pdf', bbox_inches='tight')"
   ]
  },
  {
   "cell_type": "code",
   "execution_count": null,
   "metadata": {},
   "outputs": [],
   "source": [
    "# Cor = correlation(df, pairwise=True)\n",
    "plot_cor(df, Cor)"
   ]
  },
  {
   "cell_type": "code",
   "execution_count": null,
   "metadata": {},
   "outputs": [],
   "source": [
    "plot_bar(df)"
   ]
  },
  {
   "cell_type": "code",
   "execution_count": null,
   "metadata": {},
   "outputs": [],
   "source": [
    "plot_t(df)"
   ]
  },
  {
   "cell_type": "code",
   "execution_count": null,
   "metadata": {},
   "outputs": [],
   "source": [
    "Cor = correlation(df)\n",
    "names = list(define_measures().keys())\n",
    "for i, name in enumerate(names):\n",
    "    print(name, Cor[0,i].mean(), Cor[0,i].std())"
   ]
  },
  {
   "cell_type": "code",
   "execution_count": null,
   "metadata": {},
   "outputs": [],
   "source": [
    "### Setting 2: Growing Random Subsets\n",
    "\n",
    "fps = [fingerprint(mol) for mol in dataset.mols]\n",
    "\n",
    "def sample_growing(n_mols=1000, power=0):\n",
    "    N = len(dataset.mols)\n",
    "    sims = np.array([0.01 for _ in range(N)])\n",
    "    chosen = np.zeros((N,))\n",
    "    \n",
    "    subset = []\n",
    "    while len(subset) < n_mols:\n",
    "        p = (sims-chosen)**power\n",
    "        i = np.random.choice(N, p=p/p.sum())\n",
    "        sims = np.maximum(sims, similarities_tanimoto(fps[i], fps))\n",
    "        subset.append(i)\n",
    "        chosen[i] = 1\n",
    "        \n",
    "    subset = [dataset.mols[i] for i in subset]\n",
    "    return subset\n",
    "\n",
    "def random_subset_growing(n_mols=1000, power=0, n_runs=10):\n",
    "    df_list = []\n",
    "    for run in tqdm(range(n_runs)):\n",
    "        subset = sample_growing(n_mols, power=power)\n",
    "        \n",
    "        data = []\n",
    "        measures = define_measures()\n",
    "        for i, mol in enumerate(subset):\n",
    "            for name, measure in measures.items():\n",
    "                measure.update([mol])\n",
    "                data.append([i+1, measure.report(), name, run])\n",
    "        \n",
    "        df = pd.DataFrame(data=data, columns=['n_mols', 'value', 'measure', 'run'])\n",
    "        \n",
    "        ymax = None\n",
    "        for name in measures.keys():\n",
    "            y = df[df['measure'] == name]['value'].to_numpy()\n",
    "            if name == 'GS': ymax = y.max()\n",
    "            if y.max() > 0:\n",
    "                df.loc[df['measure'] == name, 'value'] = y / y.max() * ymax\n",
    "        df_list.append(df)\n",
    "    \n",
    "    df = pd.concat(df_list)\n",
    "    return df"
   ]
  },
  {
   "cell_type": "code",
   "execution_count": null,
   "metadata": {
    "scrolled": true
   },
   "outputs": [],
   "source": [
    "# df = random_subset_growing(power=0)\n",
    "# df.to_csv('random_subset_growing_power=0_fp.csv')\n",
    "df = pd.read_csv('random_subset_growing_power=10_fp.csv')\n",
    "df"
   ]
  },
  {
   "cell_type": "code",
   "execution_count": null,
   "metadata": {
    "scrolled": false
   },
   "outputs": [],
   "source": [
    "df.loc[df['measure'] == '#Circles (0.24)', 'measure'] = '#Circles'\n",
    "df"
   ]
  },
  {
   "cell_type": "code",
   "execution_count": null,
   "metadata": {},
   "outputs": [],
   "source": [
    "from tslearn.metrics import dtw\n",
    "\n",
    "def correlation(df, pairwise=False):\n",
    "    names = list(define_measures().keys())\n",
    "    m = len(names)\n",
    "    n_runs = df.iloc[-1]['run'] + 1\n",
    "    Cor = np.zeros((m, m, n_runs))\n",
    "    P = np.zeros((m, m, n_runs))\n",
    "    for i, name_i in enumerate(names):\n",
    "        if not pairwise and i > 0: continue\n",
    "        for j, name_j in enumerate(names):\n",
    "            for run in range(n_runs):\n",
    "                a = df[(df['measure'] == name_i) & (df['run'] == run)]['value'].to_numpy()\n",
    "                b = df[(df['measure'] == name_j) & (df['run'] == run)]['value'].to_numpy()\n",
    "                a = a[1:] - a[:-1]\n",
    "                b = b[1:] - b[:-1]\n",
    "                Cor[i,j,run] = dtw(a, b) # dtw distance\n",
    "    return Cor\n",
    "\n",
    "def plot_bar(df, ticks=True):\n",
    "    Cor = correlation(df)\n",
    "    \n",
    "    n_runs = df.iloc[-1]['run'] + 1\n",
    "    names = list(define_measures().keys())\n",
    "    df_bar_plot = pd.DataFrame(columns=['measure', 'value'])\n",
    "    for j, name_j in enumerate(names):\n",
    "        if j == 0: continue\n",
    "        for run in range(n_runs):\n",
    "            df_bar_plot.loc[len(df_bar_plot)] = [name_j, Cor[0,j,run]]\n",
    "                \n",
    "    fig = plt.figure(figsize=(8, 4))\n",
    "    sns.set(font_scale=1.5)\n",
    "    sns.set_style(\"whitegrid\")\n",
    "    cls = ['#D9D9D9'] * (len(names) - 1)\n",
    "    cls[-2] = '#C0E9A2'\n",
    "    ax = sns.barplot(y='measure', x='value', data=df_bar_plot, palette=cls, orient='h')\n",
    "    ax.set(ylabel=None)\n",
    "    ax.set(xlabel='DTW distance')\n",
    "    ax.set_xscale(\"log\")\n",
    "    ax.set_xticks([1,2,3,5,10,50])\n",
    "    ax.get_xaxis().set_major_formatter(matplotlib.ticker.ScalarFormatter())\n",
    "    if not ticks: ax.set_xticks([])\n",
    "    plt.show()\n",
    "    fig.savefig('fig.pdf', bbox_inches='tight')\n",
    "    \n",
    "    \n",
    "def plot_t(df):\n",
    "    Cor = correlation(df)\n",
    "    \n",
    "    n_runs = df.iloc[-1]['run'] + 1\n",
    "    names = list(define_measures().keys())\n",
    "    df_bar_plot = pd.DataFrame(columns=['threshold', 'value'])\n",
    "    for j, name_j in enumerate(names):\n",
    "        if j == 0: continue\n",
    "        t = float(name_j[-5:-1])\n",
    "        t = 1. - t\n",
    "        for run in range(n_runs):\n",
    "            df_bar_plot.loc[len(df_bar_plot)] = [t, Cor[0,j,run]]\n",
    "    \n",
    "    fig = plt.figure(figsize=(8, 4))\n",
    "    sns.set(font_scale=1.5)\n",
    "    sns.set_style(\"whitegrid\")\n",
    "    ax = sns.lineplot(x='threshold', y='value', data=df_bar_plot)\n",
    "    ax.set(ylabel='DTW distance')\n",
    "    ax.set(xlabel='Threshold t')\n",
    "    ax.set(xlim=(0.7, 0.9))\n",
    "    ax.xaxis.set_major_locator(matplotlib.ticker.MultipleLocator(0.05))\n",
    "    fig.savefig('fig.pdf', bbox_inches='tight')\n",
    "    \n",
    "def plot_cor(df, Cor=None):\n",
    "    if Cor is None: \n",
    "        Cor = correlation(df, pairwise=True)\n",
    "    names = list(define_measures().keys())\n",
    "    \n",
    "    fig = plt.figure(figsize=(10, 10))\n",
    "    sns.set(font_scale=1.5)\n",
    "    g = sns.clustermap(\n",
    "        Cor.mean(axis=-1), \n",
    "        vmin=0, vmax=10, \n",
    "        annot=False, xticklabels=names, yticklabels=names, fmt='.2f')\n",
    "    ax = g.ax_heatmap\n",
    "    ax.tick_params(axis='x', rotation=90)\n",
    "    plt.show()\n",
    "    fig = ax.get_figure()\n",
    "    fig.savefig('fig.pdf', bbox_inches='tight')"
   ]
  },
  {
   "cell_type": "code",
   "execution_count": null,
   "metadata": {},
   "outputs": [],
   "source": [
    "# Cor = correlation(df, pairwise=True)\n",
    "plot_cor(df, Cor)"
   ]
  },
  {
   "cell_type": "code",
   "execution_count": null,
   "metadata": {},
   "outputs": [],
   "source": [
    "plot_bar(df)"
   ]
  },
  {
   "cell_type": "code",
   "execution_count": null,
   "metadata": {},
   "outputs": [],
   "source": [
    "plot_t(df)"
   ]
  },
  {
   "cell_type": "code",
   "execution_count": null,
   "metadata": {},
   "outputs": [],
   "source": [
    "Cor = correlation(df)\n",
    "names = list(define_measures().keys())\n",
    "for i, name in enumerate(names):\n",
    "    print(name, Cor[0,i].mean(), Cor[0,i].std())"
   ]
  },
  {
   "cell_type": "code",
   "execution_count": null,
   "metadata": {},
   "outputs": [],
   "source": [
    "df2[df2['measure'] == 'Bottleneck']\n",
    "Cor[0,3,[0,1,2,3,4,5,7,8,9]].std()"
   ]
  },
  {
   "cell_type": "code",
   "execution_count": null,
   "metadata": {
    "scrolled": false
   },
   "outputs": [],
   "source": [
    "plot_ts_sim(df1)\n",
    "plot_ts_sim(df2)\n",
    "plot_ts_sim(df3)"
   ]
  },
  {
   "cell_type": "code",
   "execution_count": null,
   "metadata": {
    "scrolled": true
   },
   "outputs": [],
   "source": [
    "# plot_curve(df1)\n",
    "plot_curve(df2)\n",
    "# plot_curve(df3)"
   ]
  },
  {
   "cell_type": "code",
   "execution_count": null,
   "metadata": {},
   "outputs": [],
   "source": []
  }
 ],
 "metadata": {
  "kernelspec": {
   "display_name": "em",
   "language": "python",
   "name": "em"
  },
  "language_info": {
   "codemirror_mode": {
    "name": "ipython",
    "version": 3
   },
   "file_extension": ".py",
   "mimetype": "text/x-python",
   "name": "python",
   "nbconvert_exporter": "python",
   "pygments_lexer": "ipython3",
   "version": "3.8.5"
  }
 },
 "nbformat": 4,
 "nbformat_minor": 4
}
