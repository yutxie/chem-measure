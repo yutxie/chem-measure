{
 "cells": [
  {
   "cell_type": "code",
   "execution_count": null,
   "metadata": {},
   "outputs": [],
   "source": [
    "import os\n",
    "import rdkit\n",
    "import random\n",
    "import numpy as np\n",
    "import pandas as pd\n",
    "import seaborn as sns\n",
    "import matplotlib.pyplot as plt\n",
    "from tqdm import tqdm\n",
    "from rdkit import Chem\n",
    "from rdkit.Chem import Draw\n",
    "from rdkit.Chem import AllChem\n",
    "\n",
    "from measures import *\n",
    "from utils import fingerprint, similarities"
   ]
  },
  {
   "cell_type": "code",
   "execution_count": null,
   "metadata": {},
   "outputs": [],
   "source": [
    "MAX_STEP = 2000\n",
    "\n",
    "def parse_mols_txt(file_name):\n",
    "    data = []\n",
    "    with open(file_name, 'r') as f:\n",
    "        lines = f.readlines()\n",
    "    \n",
    "    step = None\n",
    "    colums = []\n",
    "    for line in lines:\n",
    "        if line.startswith('molecules'):\n",
    "            step = int(line.strip('\\n').split(' ')[-1])\n",
    "            if step > MAX_STEP: break\n",
    "            continue\n",
    "        if line.startswith('#'):\n",
    "            columns = ['step'] + line.strip('\\n').split('\\t')\n",
    "            continue\n",
    "        data.append([step] + line.strip('\\n').split('\\t'))\n",
    "    df = pd.DataFrame(data, columns=columns)\n",
    "    return df"
   ]
  },
  {
   "cell_type": "code",
   "execution_count": null,
   "metadata": {},
   "outputs": [],
   "source": [
    "import pandas as pd\n",
    "\n",
    "model_names = ['Baseline', 'AD', 'NN']\n",
    "\n",
    "file_names = [\n",
    "    'data/mols/mols_baseline.txt',\n",
    "    'data/mols/mols_ad.txt',\n",
    "    'data/mols/mols_nn.txt',\n",
    "]\n",
    "\n",
    "# dfs = []\n",
    "df = pd.DataFrame()\n",
    "\n",
    "for model, file_name in zip(model_names, file_names):\n",
    "#     t = pd.read_csv(file_name, header=1, sep='\\t')\n",
    "    t = parse_mols_txt(file_name)\n",
    "    for col in t.columns:\n",
    "        if col == 'smiles': continue\n",
    "        t[col] = pd.to_numeric(t[col], errors='coerce')\n",
    "    t = t.dropna()\n",
    "    t = t.drop_duplicates(subset='smiles')\n",
    "    t['model'] = model\n",
    "    df = df.append(t)"
   ]
  },
  {
   "cell_type": "code",
   "execution_count": null,
   "metadata": {},
   "outputs": [],
   "source": [
    "df['succ'] = \\\n",
    "    ((df['jnk3'] >= 0.5) & \\\n",
    "    (df['qed' ] >= 0.6) & \\\n",
    "    (df['sa'  ] >= .67)).tolist()\n",
    "df['score'] = df['jnk3'] + df['qed'] + df['sa']\n",
    "# df"
   ]
  },
  {
   "cell_type": "code",
   "execution_count": null,
   "metadata": {},
   "outputs": [],
   "source": [
    "df_succ = df[df['succ'] == True]\n",
    "# df_succ"
   ]
  },
  {
   "cell_type": "code",
   "execution_count": null,
   "metadata": {},
   "outputs": [],
   "source": [
    "df_succ[df_succ['model'] == 'AD']"
   ]
  },
  {
   "cell_type": "code",
   "execution_count": null,
   "metadata": {},
   "outputs": [],
   "source": [
    "def define_measures():\n",
    "    measures = {\n",
    "#         'GS' : GoldenStandard(),\n",
    "#         'Diversity' : AvgAvgDis(),\n",
    "#         'SumDiversity' : SumAvgDis(),\n",
    "#         'Bottleneck' : MinMinDis(),\n",
    "#         'SumBottleneck' : SumMinDis(),\n",
    "#         'Diameter' : MaxMaxDis(),\n",
    "#         'SumDiameter' : SumMaxDis(),\n",
    "#         'DPP' : DPP(),\n",
    "        '#FG' : NFragment(frag='FG'),\n",
    "#         '#RS' : NFragment(frag='RS'),\n",
    "#         '#Circles': NCirc(threshold=0.35),\n",
    "    }\n",
    "#     THRESHOLDS = [0.35] #np.linspace(0, 1, num=50)\n",
    "#     for th in THRESHOLDS:\n",
    "#         measures['N_Circ (c=%.2f)' % th] = NCirc(threshold=th)\n",
    "    return measures"
   ]
  },
  {
   "cell_type": "code",
   "execution_count": null,
   "metadata": {
    "scrolled": true
   },
   "outputs": [],
   "source": [
    "import random\n",
    "\n",
    "measures = define_measures()\n",
    "print(measures.keys())\n",
    "columns = ['model', 'step', 'Richness'] + list(measures.keys())\n",
    "measures_evaluated = []\n",
    "data = []\n",
    "\n",
    "for model in model_names:\n",
    "    measures = define_measures()\n",
    "    rich = 0\n",
    "    for step in tqdm(range(MAX_STEP+1)):\n",
    "        smiles = df_succ[(df_succ['model'] == model) & (df_succ['step'] == step)]['smiles']\n",
    "        mols = [Chem.MolFromSmiles(smi) for smi in smiles]\n",
    "        rich += len(smiles)\n",
    "        entry = [model, step, rich]\n",
    "        for name, measure in measures.items():\n",
    "            if isinstance(measure, DissimilarityBasedMeasure):\n",
    "                mols_ = [mol for mol in mols if random.random() < 0.05]\n",
    "            else: mols_ = mols\n",
    "            measure.update(mols_)\n",
    "            entry.append(measure.report())\n",
    "        data.append(entry)\n",
    "    measures_evaluated.append(measures)\n",
    "        \n",
    "df_curve = pd.DataFrame(data=data, columns=columns)\n",
    "# df_curve"
   ]
  },
  {
   "cell_type": "code",
   "execution_count": null,
   "metadata": {},
   "outputs": [],
   "source": [
    "df_curve[df_curve['model'] == 'Baseline']"
   ]
  },
  {
   "cell_type": "code",
   "execution_count": null,
   "metadata": {},
   "outputs": [],
   "source": [
    "import seaborn as sns\n",
    "import matplotlib.pyplot as plt\n",
    "import matplotlib.ticker as tkr\n",
    "\n",
    "measure_name = 'Diversity'\n",
    "\n",
    "plt.figure(figsize=(10, 7))\n",
    "sns.set(font_scale=3)\n",
    "ax = sns.lineplot(data=df_curve, x='step', y=measure_name, hue='model', style='model', linewidth=5, legend=True,\n",
    "             hue_order=['Baseline', 'NN', 'AD'], \n",
    "             palette=['steelblue', 'forestgreen', 'darkorange'])\n",
    "ax.lines[0].set_linestyle(\"dashdot\")\n",
    "ax.lines[1].set_linestyle(\"solid\")\n",
    "ax.lines[2].set_linestyle(\"dotted\")\n",
    "# ax.set_ylabel(ax.get_ylabel(), rotation=90)\n",
    "# ax.yaxis.set_major_formatter(tkr.FuncFormatter(lambda y, p: f'{int(y/1000)}K'))"
   ]
  },
  {
   "cell_type": "code",
   "execution_count": null,
   "metadata": {},
   "outputs": [],
   "source": [
    "def fingerprint(mol):\n",
    "    try: \n",
    "        fp = AllChem.GetMorganFingerprintAsBitVect(mol, 2, nBits=1024)\n",
    "    except:\n",
    "        fp = np.zeros(1024)\n",
    "    return fp\n",
    "\n",
    "labels = []\n",
    "fps = []\n",
    "for name, measures in zip(model_names, measures_evaluated):\n",
    "    measure = measures['#FG']\n",
    "    smiles = measure.df['frags'].tolist()\n",
    "    mols = [Chem.MolFromSmiles(smi) for smi in smiles]\n",
    "    fps += [fingerprint(mol) for mol in mols]\n",
    "    labels += [name] * len(smiles)\n",
    "nfps = np.array(fps)\n",
    "nfps"
   ]
  },
  {
   "cell_type": "code",
   "execution_count": null,
   "metadata": {},
   "outputs": [],
   "source": [
    "import umap\n",
    "import matplotlib.pyplot as plt\n",
    "from sklearn.decomposition import TruncatedSVD, PCA, KernelPCA\n",
    "from sklearn.manifold import TSNE, MDS\n",
    "\n",
    "COLORS = ['steelblue', 'darkorange', 'forestgreen']\n",
    "\n",
    "# mapper = umap.UMAP(metric='jaccard', n_neighbors=30, min_dist=0.99)\n",
    "mapper = PCA(n_components=2)\n",
    "# mapper = TruncatedSVD(n_components=2)\n",
    "# mapper = TSNE(n_components=2, perplexity=50)\n",
    "X = mapper.fit_transform(nfps)"
   ]
  },
  {
   "cell_type": "code",
   "execution_count": null,
   "metadata": {},
   "outputs": [],
   "source": [
    "plt.figure(figsize=(10, 7))\n",
    "sns.set(font_scale=2)\n",
    "ax = sns.scatterplot(x=X[::-1,0], y=X[::-1,1], linewidth=0, #alpha=0.8,\n",
    "                hue=labels[::-1], style=labels[::-1], size=labels[::-1],\n",
    "                hue_order=['Baseline', 'NN', 'AD'], \n",
    "#                 palette=['steelblue', 'forestgreen', 'darkorange'],\n",
    "                palette=['royalblue', 'lightgreen', 'darkorange'],\n",
    "                markers={'Baseline' : 'X', 'AD' : '*', 'NN' : 'o'},\n",
    "                sizes={'Baseline' : 80, 'AD' : 120, 'NN' : 100})\n",
    "ax.set(xticklabels=[])\n",
    "ax.set(yticklabels=[])\n",
    "# plt.scatter()\n",
    "# plt.show()"
   ]
  },
  {
   "cell_type": "code",
   "execution_count": null,
   "metadata": {},
   "outputs": [],
   "source": [
    "df_succ"
   ]
  },
  {
   "cell_type": "code",
   "execution_count": null,
   "metadata": {},
   "outputs": [],
   "source": [
    "smiles = df_succ[df_succ['model'] == 'AD']['smiles'].tolist()\n",
    "smiles = random.choices(smiles, k=1000)\n",
    "mols = [Chem.MolFromSmiles(smi) for smi in smiles]\n",
    "fps = [fingerprint(mol) for mol in mols]"
   ]
  },
  {
   "cell_type": "code",
   "execution_count": null,
   "metadata": {},
   "outputs": [],
   "source": [
    "import numpy as np\n",
    "\n",
    "sim = [similarities(fp, fps) for fp in fps]\n",
    "sim = np.array(sim)\n",
    "sim"
   ]
  },
  {
   "cell_type": "code",
   "execution_count": null,
   "metadata": {},
   "outputs": [],
   "source": [
    "g = sns.clustermap(sim)\n",
    "ax = g.ax_heatmap\n",
    "ax.set(xticklabels=[])\n",
    "ax.set(yticklabels=[])"
   ]
  }
 ],
 "metadata": {
  "kernelspec": {
   "display_name": "em",
   "language": "python",
   "name": "em"
  },
  "language_info": {
   "codemirror_mode": {
    "name": "ipython",
    "version": 3
   },
   "file_extension": ".py",
   "mimetype": "text/x-python",
   "name": "python",
   "nbconvert_exporter": "python",
   "pygments_lexer": "ipython3",
   "version": "3.8.5"
  }
 },
 "nbformat": 4,
 "nbformat_minor": 4
}
