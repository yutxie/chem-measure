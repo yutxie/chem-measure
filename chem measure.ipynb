{
 "cells": [
  {
   "cell_type": "code",
   "execution_count": 1,
   "id": "ca1c139a",
   "metadata": {},
   "outputs": [
    {
     "name": "stderr",
     "output_type": "stream",
     "text": [
      "/home/yutxie/miniconda3/envs/chem-measure/lib/python3.7/site-packages/tqdm/auto.py:22: TqdmWarning: IProgress not found. Please update jupyter and ipywidgets. See https://ipywidgets.readthedocs.io/en/stable/user_install.html\n",
      "  from .autonotebook import tqdm as notebook_tqdm\n"
     ]
    }
   ],
   "source": [
    "import os\n",
    "import rdkit\n",
    "import random\n",
    "import pickle\n",
    "import numpy as np\n",
    "import rdkit.Chem.QED as QED\n",
    "# import pandas as pd\n",
    "# import seaborn as sns\n",
    "# import matplotlib.pyplot as plt\n",
    "from tqdm import tqdm\n",
    "from tqdm.contrib.concurrent import process_map\n",
    "from rdkit import Chem\n",
    "from rdkit.Chem import Draw\n",
    "from rdkit.Chem import AllChem\n",
    "\n",
    "import sa_scorer\n",
    "from measures import *\n",
    "from utils import *"
   ]
  },
  {
   "cell_type": "markdown",
   "id": "eada43fa",
   "metadata": {},
   "source": [
    "## Load Molecular Database"
   ]
  },
  {
   "cell_type": "code",
   "execution_count": null,
   "id": "4d0f3032",
   "metadata": {},
   "outputs": [],
   "source": [
    "smiles = []\n",
    "mols = [] \n",
    "vecs = []"
   ]
  },
  {
   "cell_type": "markdown",
   "id": "43c18b3b",
   "metadata": {},
   "source": [
    "### ChEMBL & ENAMINE"
   ]
  },
  {
   "cell_type": "code",
   "execution_count": null,
   "id": "4a690499",
   "metadata": {},
   "outputs": [],
   "source": [
    "file_name = 'chembl_31.sdf'\n",
    "# file_name = 'Enamine_Discovery_Diversity_Set_50240_DDS-50_20211022.sdf'\n",
    "# file_name = 'Enamine_Hit_Locator_Library_HLL-460_460160cmpds_20220221.sdf'\n",
    "with Chem.SDMolSupplier(os.path.join('data', file_name)) as suppl:\n",
    "    for mol in tqdm(suppl):\n",
    "        if mol is None: continue\n",
    "        mols.append(mol)\n",
    "\n",
    "len(mols)"
   ]
  },
  {
   "cell_type": "markdown",
   "id": "84e4bd9b",
   "metadata": {},
   "source": [
    "### ZINC 250k"
   ]
  },
  {
   "cell_type": "code",
   "execution_count": null,
   "id": "5a400998",
   "metadata": {},
   "outputs": [],
   "source": [
    "with open('data/250k_rndm_zinc_drugs_clean_3.csv', 'r') as f:\n",
    "    lines = f.readlines()\n",
    "    for i, line in enumerate(lines):\n",
    "        if i % 2 == 0: continue\n",
    "        smi = line[1:-1]\n",
    "        smiles.append(smi)"
   ]
  },
  {
   "cell_type": "markdown",
   "id": "c511d34f",
   "metadata": {
    "toc-hr-collapsed": true
   },
   "source": [
    "### GDB-17"
   ]
  },
  {
   "cell_type": "code",
   "execution_count": null,
   "id": "21c36299",
   "metadata": {},
   "outputs": [],
   "source": [
    "with open('data/GDB17.50000000LL.smi', 'r') as f:\n",
    "    lines = f.readlines()\n",
    "    lines = [line.strip() for line in lines]\n",
    "    smiles = lines"
   ]
  },
  {
   "cell_type": "markdown",
   "id": "05d35be8",
   "metadata": {},
   "source": [
    "### MOSES"
   ]
  },
  {
   "cell_type": "code",
   "execution_count": null,
   "id": "6644aa83",
   "metadata": {
    "scrolled": true,
    "tags": []
   },
   "outputs": [],
   "source": [
    "with open('data/moses_dataset_v1.csv', 'r') as f:\n",
    "    lines = f.readlines()\n",
    "    for i, line in enumerate(lines):\n",
    "        if i == 0: continue\n",
    "        smi = line.strip().split(',')[0]\n",
    "        smiles.append(smi)"
   ]
  },
  {
   "cell_type": "markdown",
   "id": "f6731045",
   "metadata": {},
   "source": [
    "### Filtered mols"
   ]
  },
  {
   "cell_type": "code",
   "execution_count": null,
   "id": "b6cd77f8",
   "metadata": {},
   "outputs": [],
   "source": [
    "# import _pickle as pickle\n",
    "# import cPickle as pickle\n",
    "\n",
    "mols = []\n",
    "file_names = ['zinc', 'enamine', 'moses', 'chembl', 'gdb']\n",
    "for file_name in file_names:\n",
    "    m = pickle.load(open(os.path.join('mols/databases/', 'jnk3_{}.pkl'.format(file_name)), 'rb'))\n",
    "    print('loaded', len(m), 'mols for', file_name)\n",
    "    mols += m\n",
    "print(len(mols))"
   ]
  },
  {
   "cell_type": "markdown",
   "id": "52d15b72",
   "metadata": {},
   "source": [
    "### MARS generated"
   ]
  },
  {
   "cell_type": "code",
   "execution_count": 2,
   "id": "898658ce",
   "metadata": {},
   "outputs": [
    {
     "data": {
      "text/html": [
       "<div>\n",
       "<style scoped>\n",
       "    .dataframe tbody tr th:only-of-type {\n",
       "        vertical-align: middle;\n",
       "    }\n",
       "\n",
       "    .dataframe tbody tr th {\n",
       "        vertical-align: top;\n",
       "    }\n",
       "\n",
       "    .dataframe thead th {\n",
       "        text-align: right;\n",
       "    }\n",
       "</style>\n",
       "<table border=\"1\" class=\"dataframe\">\n",
       "  <thead>\n",
       "    <tr style=\"text-align: right;\">\n",
       "      <th></th>\n",
       "      <th>Step</th>\n",
       "      <th>Score</th>\n",
       "      <th>jnk3</th>\n",
       "      <th>sa</th>\n",
       "      <th>qed</th>\n",
       "      <th>nov</th>\n",
       "      <th>SMILES</th>\n",
       "    </tr>\n",
       "  </thead>\n",
       "  <tbody>\n",
       "    <tr>\n",
       "      <th>0</th>\n",
       "      <td>-1</td>\n",
       "      <td>0.268196</td>\n",
       "      <td>0.00</td>\n",
       "      <td>0.805826</td>\n",
       "      <td>0.372786</td>\n",
       "      <td>0.000000</td>\n",
       "      <td>CC</td>\n",
       "    </tr>\n",
       "    <tr>\n",
       "      <th>1</th>\n",
       "      <td>0</td>\n",
       "      <td>0.552634</td>\n",
       "      <td>0.00</td>\n",
       "      <td>0.914243</td>\n",
       "      <td>0.569358</td>\n",
       "      <td>0.941176</td>\n",
       "      <td>CCC(=O)NC(C)C</td>\n",
       "    </tr>\n",
       "    <tr>\n",
       "      <th>2</th>\n",
       "      <td>0</td>\n",
       "      <td>0.567260</td>\n",
       "      <td>0.00</td>\n",
       "      <td>0.935456</td>\n",
       "      <td>0.612518</td>\n",
       "      <td>0.956522</td>\n",
       "      <td>CCc1cccc(C(F)(F)F)c1</td>\n",
       "    </tr>\n",
       "    <tr>\n",
       "      <th>3</th>\n",
       "      <td>0</td>\n",
       "      <td>0.523465</td>\n",
       "      <td>0.00</td>\n",
       "      <td>0.876067</td>\n",
       "      <td>0.460528</td>\n",
       "      <td>0.933333</td>\n",
       "      <td>CCNCCO</td>\n",
       "    </tr>\n",
       "    <tr>\n",
       "      <th>4</th>\n",
       "      <td>0</td>\n",
       "      <td>0.558080</td>\n",
       "      <td>0.01</td>\n",
       "      <td>0.939418</td>\n",
       "      <td>0.572320</td>\n",
       "      <td>0.950000</td>\n",
       "      <td>CCc1ccc(C#N)cc1</td>\n",
       "    </tr>\n",
       "    <tr>\n",
       "      <th>...</th>\n",
       "      <td>...</td>\n",
       "      <td>...</td>\n",
       "      <td>...</td>\n",
       "      <td>...</td>\n",
       "      <td>...</td>\n",
       "      <td>...</td>\n",
       "      <td>...</td>\n",
       "    </tr>\n",
       "    <tr>\n",
       "      <th>1448316</th>\n",
       "      <td>2000</td>\n",
       "      <td>0.698430</td>\n",
       "      <td>0.61</td>\n",
       "      <td>0.773309</td>\n",
       "      <td>0.727438</td>\n",
       "      <td>0.793721</td>\n",
       "      <td>N#Cc1cc2nc(C#N)c(-c3ccnc(NC4CCOCC4)c3)c(F)c2cc1F</td>\n",
       "    </tr>\n",
       "    <tr>\n",
       "      <th>1448317</th>\n",
       "      <td>2000</td>\n",
       "      <td>0.644364</td>\n",
       "      <td>0.38</td>\n",
       "      <td>0.641971</td>\n",
       "      <td>0.724970</td>\n",
       "      <td>0.855486</td>\n",
       "      <td>NC1CN(C2CN(C3COCC(c4nc(NC5CCOC5)ncc4F)C3)C2)C1</td>\n",
       "    </tr>\n",
       "    <tr>\n",
       "      <th>1448318</th>\n",
       "      <td>2000</td>\n",
       "      <td>0.612459</td>\n",
       "      <td>0.19</td>\n",
       "      <td>0.823917</td>\n",
       "      <td>0.726583</td>\n",
       "      <td>0.859834</td>\n",
       "      <td>Nc1ccc(-c2cnccn2)cc1-c1ccc2c(c1)OC(F)(F)O2</td>\n",
       "    </tr>\n",
       "    <tr>\n",
       "      <th>1448319</th>\n",
       "      <td>2000</td>\n",
       "      <td>0.699544</td>\n",
       "      <td>0.70</td>\n",
       "      <td>0.738538</td>\n",
       "      <td>0.791601</td>\n",
       "      <td>0.798175</td>\n",
       "      <td>O=C1NCC(N2CCC2)N1c1ccc(-c2ccnc(NC3CCOCC3)c2)c(...</td>\n",
       "    </tr>\n",
       "    <tr>\n",
       "      <th>1448320</th>\n",
       "      <td>2000</td>\n",
       "      <td>0.661710</td>\n",
       "      <td>0.42</td>\n",
       "      <td>0.741010</td>\n",
       "      <td>0.670610</td>\n",
       "      <td>0.856229</td>\n",
       "      <td>CN(F)c1nc(NF)ncc1Nc1c(F)cc(F)cc1F</td>\n",
       "    </tr>\n",
       "  </tbody>\n",
       "</table>\n",
       "<p>1448321 rows × 7 columns</p>\n",
       "</div>"
      ],
      "text/plain": [
       "         Step     Score  jnk3        sa       qed       nov  \\\n",
       "0          -1  0.268196  0.00  0.805826  0.372786  0.000000   \n",
       "1           0  0.552634  0.00  0.914243  0.569358  0.941176   \n",
       "2           0  0.567260  0.00  0.935456  0.612518  0.956522   \n",
       "3           0  0.523465  0.00  0.876067  0.460528  0.933333   \n",
       "4           0  0.558080  0.01  0.939418  0.572320  0.950000   \n",
       "...       ...       ...   ...       ...       ...       ...   \n",
       "1448316  2000  0.698430  0.61  0.773309  0.727438  0.793721   \n",
       "1448317  2000  0.644364  0.38  0.641971  0.724970  0.855486   \n",
       "1448318  2000  0.612459  0.19  0.823917  0.726583  0.859834   \n",
       "1448319  2000  0.699544  0.70  0.738538  0.791601  0.798175   \n",
       "1448320  2000  0.661710  0.42  0.741010  0.670610  0.856229   \n",
       "\n",
       "                                                    SMILES  \n",
       "0                                                       CC  \n",
       "1                                            CCC(=O)NC(C)C  \n",
       "2                                     CCc1cccc(C(F)(F)F)c1  \n",
       "3                                                   CCNCCO  \n",
       "4                                          CCc1ccc(C#N)cc1  \n",
       "...                                                    ...  \n",
       "1448316   N#Cc1cc2nc(C#N)c(-c3ccnc(NC4CCOCC4)c3)c(F)c2cc1F  \n",
       "1448317     NC1CN(C2CN(C3COCC(c4nc(NC5CCOC5)ncc4F)C3)C2)C1  \n",
       "1448318         Nc1ccc(-c2cnccn2)cc1-c1ccc2c(c1)OC(F)(F)O2  \n",
       "1448319  O=C1NCC(N2CCC2)N1c1ccc(-c2ccnc(NC3CCOCC3)c2)c(...  \n",
       "1448320                  CN(F)c1nc(NF)ncc1Nc1c(F)cc(F)cc1F  \n",
       "\n",
       "[1448321 rows x 7 columns]"
      ]
     },
     "execution_count": 2,
     "metadata": {},
     "output_type": "execute_result"
    }
   ],
   "source": [
    "import pandas as pd\n",
    "\n",
    "file_name = 'mols/mars+nc/mols5.csv'\n",
    "\n",
    "df = pd.read_csv(file_name, header=0, sep=',')\n",
    "for col in df.columns:\n",
    "    if col == 'SMILES': continue\n",
    "    df[col] = pd.to_numeric(df[col], errors='coerce')\n",
    "df = df.dropna()\n",
    "df = df.drop_duplicates(subset='SMILES')\n",
    "\n",
    "MAX_STEP = 2000\n",
    "df = df[df['Step'] <= MAX_STEP]\n",
    "# df = df[df['Step'] == MAX_STEP]\n",
    "df"
   ]
  },
  {
   "cell_type": "code",
   "execution_count": 3,
   "id": "cd14dcbc",
   "metadata": {},
   "outputs": [
    {
     "data": {
      "text/html": [
       "<div>\n",
       "<style scoped>\n",
       "    .dataframe tbody tr th:only-of-type {\n",
       "        vertical-align: middle;\n",
       "    }\n",
       "\n",
       "    .dataframe tbody tr th {\n",
       "        vertical-align: top;\n",
       "    }\n",
       "\n",
       "    .dataframe thead th {\n",
       "        text-align: right;\n",
       "    }\n",
       "</style>\n",
       "<table border=\"1\" class=\"dataframe\">\n",
       "  <thead>\n",
       "    <tr style=\"text-align: right;\">\n",
       "      <th></th>\n",
       "      <th>Step</th>\n",
       "      <th>Score</th>\n",
       "      <th>jnk3</th>\n",
       "      <th>sa</th>\n",
       "      <th>qed</th>\n",
       "      <th>nov</th>\n",
       "      <th>SMILES</th>\n",
       "      <th>succ</th>\n",
       "      <th>score</th>\n",
       "    </tr>\n",
       "  </thead>\n",
       "  <tbody>\n",
       "    <tr>\n",
       "      <th>23693</th>\n",
       "      <td>11</td>\n",
       "      <td>0.728684</td>\n",
       "      <td>0.61</td>\n",
       "      <td>0.871392</td>\n",
       "      <td>0.719205</td>\n",
       "      <td>0.914735</td>\n",
       "      <td>COc1ccccc1Nc1ccnc(Nc2ccc3c(c2)CCO3)c1</td>\n",
       "      <td>True</td>\n",
       "      <td>2.200597</td>\n",
       "    </tr>\n",
       "    <tr>\n",
       "      <th>26177</th>\n",
       "      <td>12</td>\n",
       "      <td>0.710447</td>\n",
       "      <td>0.59</td>\n",
       "      <td>0.860728</td>\n",
       "      <td>0.628671</td>\n",
       "      <td>0.923117</td>\n",
       "      <td>Oc1ccccc1Nc1ccnc(Nc2ccc3c(c2)CCO3)c1</td>\n",
       "      <td>True</td>\n",
       "      <td>2.079399</td>\n",
       "    </tr>\n",
       "    <tr>\n",
       "      <th>33990</th>\n",
       "      <td>15</td>\n",
       "      <td>0.701315</td>\n",
       "      <td>0.50</td>\n",
       "      <td>0.907774</td>\n",
       "      <td>0.692441</td>\n",
       "      <td>0.912821</td>\n",
       "      <td>Clc1cnc(Nc2ccccc2)cc1Nc1ccccc1</td>\n",
       "      <td>True</td>\n",
       "      <td>2.100215</td>\n",
       "    </tr>\n",
       "    <tr>\n",
       "      <th>36466</th>\n",
       "      <td>16</td>\n",
       "      <td>0.728143</td>\n",
       "      <td>0.65</td>\n",
       "      <td>0.921498</td>\n",
       "      <td>0.722039</td>\n",
       "      <td>0.912570</td>\n",
       "      <td>c1ccc(Nc2ccnc(Nc3ccccc3)c2)cc1</td>\n",
       "      <td>True</td>\n",
       "      <td>2.293537</td>\n",
       "    </tr>\n",
       "    <tr>\n",
       "      <th>45562</th>\n",
       "      <td>20</td>\n",
       "      <td>0.723569</td>\n",
       "      <td>0.58</td>\n",
       "      <td>0.914314</td>\n",
       "      <td>0.761208</td>\n",
       "      <td>0.914274</td>\n",
       "      <td>Brc1ccc(Nc2ncc(-c3ccccc3)cn2)cc1</td>\n",
       "      <td>True</td>\n",
       "      <td>2.255522</td>\n",
       "    </tr>\n",
       "    <tr>\n",
       "      <th>...</th>\n",
       "      <td>...</td>\n",
       "      <td>...</td>\n",
       "      <td>...</td>\n",
       "      <td>...</td>\n",
       "      <td>...</td>\n",
       "      <td>...</td>\n",
       "      <td>...</td>\n",
       "      <td>...</td>\n",
       "      <td>...</td>\n",
       "    </tr>\n",
       "    <tr>\n",
       "      <th>1448313</th>\n",
       "      <td>2000</td>\n",
       "      <td>0.697573</td>\n",
       "      <td>0.60</td>\n",
       "      <td>0.782899</td>\n",
       "      <td>0.691552</td>\n",
       "      <td>0.798738</td>\n",
       "      <td>CN(C)c1c(F)cc(Nc2cc(-c3occ(F)c3F)ccn2)cc1F</td>\n",
       "      <td>True</td>\n",
       "      <td>2.074451</td>\n",
       "    </tr>\n",
       "    <tr>\n",
       "      <th>1448314</th>\n",
       "      <td>2000</td>\n",
       "      <td>0.701573</td>\n",
       "      <td>0.65</td>\n",
       "      <td>0.742537</td>\n",
       "      <td>0.695607</td>\n",
       "      <td>0.810686</td>\n",
       "      <td>CN(C)c1cc(Nc2cc(C#N)ccn2)ccc1-c1ccnc(N2CCC2N)c1</td>\n",
       "      <td>True</td>\n",
       "      <td>2.088144</td>\n",
       "    </tr>\n",
       "    <tr>\n",
       "      <th>1448315</th>\n",
       "      <td>2000</td>\n",
       "      <td>0.697049</td>\n",
       "      <td>0.61</td>\n",
       "      <td>0.750664</td>\n",
       "      <td>0.830441</td>\n",
       "      <td>0.788196</td>\n",
       "      <td>Fc1cc(F)c(-c2ccnc(NC3CCOCC3)c2)nc1C1=NCCN1F</td>\n",
       "      <td>True</td>\n",
       "      <td>2.191105</td>\n",
       "    </tr>\n",
       "    <tr>\n",
       "      <th>1448316</th>\n",
       "      <td>2000</td>\n",
       "      <td>0.698430</td>\n",
       "      <td>0.61</td>\n",
       "      <td>0.773309</td>\n",
       "      <td>0.727438</td>\n",
       "      <td>0.793721</td>\n",
       "      <td>N#Cc1cc2nc(C#N)c(-c3ccnc(NC4CCOCC4)c3)c(F)c2cc1F</td>\n",
       "      <td>True</td>\n",
       "      <td>2.110747</td>\n",
       "    </tr>\n",
       "    <tr>\n",
       "      <th>1448319</th>\n",
       "      <td>2000</td>\n",
       "      <td>0.699544</td>\n",
       "      <td>0.70</td>\n",
       "      <td>0.738538</td>\n",
       "      <td>0.791601</td>\n",
       "      <td>0.798175</td>\n",
       "      <td>O=C1NCC(N2CCC2)N1c1ccc(-c2ccnc(NC3CCOCC3)c2)c(...</td>\n",
       "      <td>True</td>\n",
       "      <td>2.230139</td>\n",
       "    </tr>\n",
       "  </tbody>\n",
       "</table>\n",
       "<p>223071 rows × 9 columns</p>\n",
       "</div>"
      ],
      "text/plain": [
       "         Step     Score  jnk3        sa       qed       nov  \\\n",
       "23693      11  0.728684  0.61  0.871392  0.719205  0.914735   \n",
       "26177      12  0.710447  0.59  0.860728  0.628671  0.923117   \n",
       "33990      15  0.701315  0.50  0.907774  0.692441  0.912821   \n",
       "36466      16  0.728143  0.65  0.921498  0.722039  0.912570   \n",
       "45562      20  0.723569  0.58  0.914314  0.761208  0.914274   \n",
       "...       ...       ...   ...       ...       ...       ...   \n",
       "1448313  2000  0.697573  0.60  0.782899  0.691552  0.798738   \n",
       "1448314  2000  0.701573  0.65  0.742537  0.695607  0.810686   \n",
       "1448315  2000  0.697049  0.61  0.750664  0.830441  0.788196   \n",
       "1448316  2000  0.698430  0.61  0.773309  0.727438  0.793721   \n",
       "1448319  2000  0.699544  0.70  0.738538  0.791601  0.798175   \n",
       "\n",
       "                                                    SMILES  succ     score  \n",
       "23693                COc1ccccc1Nc1ccnc(Nc2ccc3c(c2)CCO3)c1  True  2.200597  \n",
       "26177                 Oc1ccccc1Nc1ccnc(Nc2ccc3c(c2)CCO3)c1  True  2.079399  \n",
       "33990                       Clc1cnc(Nc2ccccc2)cc1Nc1ccccc1  True  2.100215  \n",
       "36466                       c1ccc(Nc2ccnc(Nc3ccccc3)c2)cc1  True  2.293537  \n",
       "45562                     Brc1ccc(Nc2ncc(-c3ccccc3)cn2)cc1  True  2.255522  \n",
       "...                                                    ...   ...       ...  \n",
       "1448313         CN(C)c1c(F)cc(Nc2cc(-c3occ(F)c3F)ccn2)cc1F  True  2.074451  \n",
       "1448314    CN(C)c1cc(Nc2cc(C#N)ccn2)ccc1-c1ccnc(N2CCC2N)c1  True  2.088144  \n",
       "1448315        Fc1cc(F)c(-c2ccnc(NC3CCOCC3)c2)nc1C1=NCCN1F  True  2.191105  \n",
       "1448316   N#Cc1cc2nc(C#N)c(-c3ccnc(NC4CCOCC4)c3)c(F)c2cc1F  True  2.110747  \n",
       "1448319  O=C1NCC(N2CCC2)N1c1ccc(-c2ccnc(NC3CCOCC3)c2)c(...  True  2.230139  \n",
       "\n",
       "[223071 rows x 9 columns]"
      ]
     },
     "execution_count": 3,
     "metadata": {},
     "output_type": "execute_result"
    }
   ],
   "source": [
    "df['succ'] = \\\n",
    "    ((df['jnk3'] >= 0.5) & \\\n",
    "    (df['qed' ] >= 0.6) & \\\n",
    "    (df['sa'  ] >= .67)).tolist()\n",
    "df['score'] = df['jnk3'] + df['qed'] + df['sa']\n",
    "df_succ = df[df['succ'] == True]\n",
    "df_succ"
   ]
  },
  {
   "cell_type": "code",
   "execution_count": 4,
   "id": "6d3354ed",
   "metadata": {},
   "outputs": [],
   "source": [
    "smiles = list(df_succ['SMILES'])"
   ]
  },
  {
   "cell_type": "markdown",
   "id": "7adbb82d-ee1b-4873-b324-2f068e6e9dac",
   "metadata": {},
   "source": [
    "### DST generated"
   ]
  },
  {
   "cell_type": "code",
   "execution_count": null,
   "id": "aa9e13ca-be48-460b-b85d-e3f0f8199379",
   "metadata": {},
   "outputs": [],
   "source": [
    "pkl_file = \"mols/mols_DST2.pkl\"\n",
    "idx_2_smiles2f, trace_dict = pickle.load(open(pkl_file, 'rb'))\n",
    "# bestvalue, best_smiles = 0, ''\n",
    "topk = 100\n",
    "whole_smiles2f = dict()\n",
    "for idx, (smiles2f,current_set) in tqdm(idx_2_smiles2f.items()):\n",
    "    whole_smiles2f.update(smiles2f)\n",
    "\n",
    "smiles = [smi for smi,f in whole_smiles2f.items()]\n",
    "# smiles_f_lst = [(smiles,f) for smiles,f in whole_smiles2f.items()]\n",
    "# smiles_f_lst.sort(key=lambda x:x[1], reverse=True)\n",
    "# best_smiles_lst = [smiles for smiles,f in smiles_f_lst[:topk]]\n",
    "# best_f_lst = [f for smiles,f in smiles_f_lst[:topk]]"
   ]
  },
  {
   "cell_type": "markdown",
   "id": "d7b9bc3e-71d2-4511-a13d-2fe179d68bc5",
   "metadata": {},
   "source": [
    "### JANUS generated"
   ]
  },
  {
   "cell_type": "code",
   "execution_count": null,
   "id": "53103db7-fe86-42bb-9b59-92e6fadb17e4",
   "metadata": {},
   "outputs": [],
   "source": [
    "smiles = []\n",
    "for i in range(10):\n",
    "    for file_name in ['population_explore', 'population_local_search']:\n",
    "        with open('mols/mols_JANUS/{}_DATA/{}.txt'.format(i, file_name), 'r') as f:\n",
    "            lines = f.readlines()\n",
    "            smiles += lines[0].strip().split(' ')"
   ]
  },
  {
   "cell_type": "markdown",
   "id": "903351a4-20d7-4a9c-9e4b-e4a368f52f23",
   "metadata": {},
   "source": [
    "### RationaleRL generated"
   ]
  },
  {
   "cell_type": "code",
   "execution_count": null,
   "id": "ce9ac6fd-0b1b-4137-9c59-25e1720d9381",
   "metadata": {},
   "outputs": [],
   "source": [
    "with open('mols/mols_RationaleRL3.txt', 'r') as f:\n",
    "    lines = f.readlines()\n",
    "    lines = [line.strip() for line in lines]\n",
    "    smiles = lines"
   ]
  },
  {
   "cell_type": "markdown",
   "id": "2b8a4ce0",
   "metadata": {},
   "source": [
    "## Transforming and filtering"
   ]
  },
  {
   "cell_type": "code",
   "execution_count": 5,
   "id": "5756b973",
   "metadata": {
    "scrolled": true,
    "tags": []
   },
   "outputs": [
    {
     "name": "stderr",
     "output_type": "stream",
     "text": [
      "100%|████████████████████████████████████████████████████████████████████████| 223071/223071 [00:17<00:00, 13048.26it/s]\n"
     ]
    },
    {
     "data": {
      "text/plain": [
       "223071"
      ]
     },
     "execution_count": 5,
     "metadata": {},
     "output_type": "execute_result"
    }
   ],
   "source": [
    "def mol_from_smiles(x):\n",
    "    return Chem.MolFromSmiles(x)\n",
    "\n",
    "smiles = list(set(smiles))\n",
    "len(smiles)\n",
    "mols = process_map(mol_from_smiles, smiles, chunksize=1000)\n",
    "mols = [mol for mol in mols if mol is not None]\n",
    "len(mols)"
   ]
  },
  {
   "cell_type": "code",
   "execution_count": null,
   "id": "60b7c54b-4486-4d53-9d62-4ef8b0b8fa80",
   "metadata": {},
   "outputs": [],
   "source": [
    "smiles = list(set([Chem.MolToSmiles(mol) for mol in mols]))\n",
    "smiles = list(set(smiles))\n",
    "mols = process_map(mol_from_smiles, smiles, chunksize=1000)\n",
    "len(mols)"
   ]
  },
  {
   "cell_type": "code",
   "execution_count": null,
   "id": "426aab9a",
   "metadata": {},
   "outputs": [],
   "source": [
    "_fscores = None\n",
    "def readFragmentScores(name='fpscores'):\n",
    "    import gzip\n",
    "    import pickle\n",
    "    global _fscores\n",
    "    # generate the full path filename:\n",
    "    _fscores = pickle.load(gzip.open('fpscores.pkl.gz'))\n",
    "    outDict = {}\n",
    "    for i in _fscores:\n",
    "        for j in range(1, len(i)):\n",
    "            outDict[i[j]] = float(i[0])\n",
    "    _fscores = outDict\n",
    "readFragmentScores(name='fpscores')\n",
    "\n",
    "def sa(mol):\n",
    "    x = sa_scorer.calculateScore(mol, _fscores=_fscores)\n",
    "    return (10. - x) / 9. # normalized to [0, 1]\n",
    "\n",
    "def map_filter(mol):\n",
    "    if      sa(mol) < .67: return None\n",
    "    if QED.qed(mol) < 0.6: return None\n",
    "    return mol\n",
    "\n",
    "def map_filter_from_smi(smi):\n",
    "    mol = mol_from_smiles(smi)\n",
    "    if      sa(mol) < .67: return None\n",
    "    if QED.qed(mol) < 0.6: return None\n",
    "    return mol\n",
    "\n",
    "# map_filter(mols[0])\n",
    "# map_filter_from_smi(smiles[0])"
   ]
  },
  {
   "cell_type": "code",
   "execution_count": null,
   "id": "f73310cf",
   "metadata": {
    "scrolled": true,
    "tags": []
   },
   "outputs": [],
   "source": [
    "mols = process_map(map_filter, mols, chunksize=1000)\n",
    "# mols = process_map(map_filter_from_smi, smiles, chunksize=1000)\n",
    "# mols = [map_filter(mol_from_smiles(smi)) for smi in tqdm(smiles)]\n",
    "mols = [mol for mol in mols if mol is not None]\n",
    "len(mols)"
   ]
  },
  {
   "cell_type": "code",
   "execution_count": null,
   "id": "b8e3e6e6",
   "metadata": {},
   "outputs": [],
   "source": [
    "# pickle.dump(mols, open('qed_gdb.pkl', 'wb'))\n",
    "# mols = pickle.load(open('qed_gdb.pkl', 'rb'))\n",
    "# len(mols)"
   ]
  },
  {
   "cell_type": "code",
   "execution_count": null,
   "id": "e67fa31c",
   "metadata": {},
   "outputs": [],
   "source": [
    "ROOT_DIR = ''\n",
    "TASKS = ['gsk3b', 'jnk3']\n",
    "SPLITS = ['val', 'dev']\n",
    "\n",
    "models = {}\n",
    "def load_model(task):\n",
    "    with open(os.path.join(ROOT_DIR, 'kinase_rf/%s.pkl' % task), 'rb') as f:\n",
    "        models[task] = pickle.load(f, encoding='iso-8859-1')\n",
    "load_model('jnk3')"
   ]
  },
  {
   "cell_type": "code",
   "execution_count": null,
   "id": "dd785fd2",
   "metadata": {},
   "outputs": [],
   "source": [
    "# mols = pickle.load(open('mols/databases/qed_moses.pkl', 'rb'))\n",
    "# len(mols)"
   ]
  },
  {
   "cell_type": "code",
   "execution_count": null,
   "id": "6dcb6f3f",
   "metadata": {},
   "outputs": [],
   "source": [
    "def fingerprints_from_mol(mol):\n",
    "    fp = AllChem.GetMorganFingerprintAsBitVect(mol, 2, 1024)\n",
    "    nfp = np.zeros((0, ), dtype=np.int8)\n",
    "    DataStructs.ConvertToNumpyArray(fp, nfp)\n",
    "    return nfp\n",
    "\n",
    "def map_predict(args):\n",
    "    model, batch = args\n",
    "    return model.predict_proba(batch)[:,1]\n",
    "\n",
    "def get_scores(task, mols):\n",
    "    if len(mols) == 0: return []\n",
    "    model = models.get(task)\n",
    "    if model is None:\n",
    "        load_model(task)\n",
    "        model = models[task]\n",
    "        \n",
    "    fps = [fingerprints_from_mol(mol) for mol in mols]\n",
    "    fps = np.stack(fps, axis=0)\n",
    "    batches = np.array_split(fps, fps.shape[0]//512)\n",
    "    args = zip([models[task]] * len(batches), batches)\n",
    "    scores = process_map(map_predict, args, chunksize=1000)\n",
    "    scores = np.concatenate(scores).tolist()\n",
    "#     scores = models[task].predict_proba(fps)\n",
    "#     scores = scores[:,1].tolist()\n",
    "    return scores"
   ]
  },
  {
   "cell_type": "code",
   "execution_count": null,
   "id": "ef324171",
   "metadata": {},
   "outputs": [],
   "source": [
    "scores = get_scores('jnk3', mols)"
   ]
  },
  {
   "cell_type": "code",
   "execution_count": null,
   "id": "9e6237de",
   "metadata": {},
   "outputs": [],
   "source": [
    "mols_jnk3 = [mol for mol, score in zip(mols, scores) if score >= 0.5]\n",
    "len(mols_jnk3)"
   ]
  },
  {
   "cell_type": "code",
   "execution_count": null,
   "id": "22bc206b-ad6e-4723-a6b1-59c0a750f49a",
   "metadata": {},
   "outputs": [],
   "source": [
    "mols = mols_jnk3"
   ]
  },
  {
   "cell_type": "code",
   "execution_count": null,
   "id": "62d121c9",
   "metadata": {},
   "outputs": [],
   "source": [
    "# pickle.dump(mols_jnk3, open('jnk3_gdb.pkl', 'wb'))"
   ]
  },
  {
   "cell_type": "code",
   "execution_count": 6,
   "id": "083ea533",
   "metadata": {},
   "outputs": [
    {
     "name": "stderr",
     "output_type": "stream",
     "text": [
      "100%|████████████████████████████████████████████████████████████████████████| 223071/223071 [00:10<00:00, 20774.75it/s]\n"
     ]
    }
   ],
   "source": [
    "vecs = process_map(fingerprint, mols, chunksize=1000)"
   ]
  },
  {
   "cell_type": "markdown",
   "id": "47edb844",
   "metadata": {},
   "source": [
    "## Measuring"
   ]
  },
  {
   "cell_type": "code",
   "execution_count": 19,
   "id": "6184ebc9",
   "metadata": {},
   "outputs": [],
   "source": [
    "def define_measures():\n",
    "    vectorizer = fingerprints\n",
    "    sim_mat_func = similarity_matrix_tanimoto\n",
    "    measures = {}\n",
    "    for t in np.arange(0.4, 1.1, 0.05):\n",
    "        measures['#Circles (%.2f)' % t] = NCircles(vectorizer=vectorizer, sim_mat_func=sim_mat_func, threshold=t)\n",
    "    return measures\n",
    "    measures = {\n",
    "        # 'Diversity' : Diversity(vectorizer=vectorizer, sim_mat_func=sim_mat_func),\n",
    "#         'SumDiversity' : SumDiversity(vectorizer=vectorizer, sim_mat_func=sim_mat_func),\n",
    "#         'Diameter' : Diameter(vectorizer=vectorizer, sim_mat_func=sim_mat_func),\n",
    "#         'SumDiameter' : SumDiameter(vectorizer=vectorizer, sim_mat_func=sim_mat_func),\n",
    "#         'Bottleneck' : Bottleneck(vectorizer=vectorizer, sim_mat_func=sim_mat_func),\n",
    "        # 'SumBottleneck' : SumBottleneck(vectorizer=vectorizer, sim_mat_func=sim_mat_func),\n",
    "#         'DPP' : DPP(vectorizer=vectorizer, sim_mat_func=sim_mat_func),\n",
    "        # '#FG' : NFragment(frag='FG'),\n",
    "        # '#RS' : NFragment(frag='RS'),\n",
    "        # '#BM' : NBM(),\n",
    "        '#Circles (0.75)': NCircles(vectorizer=vectorizer, sim_mat_func=sim_mat_func, threshold=0.75),\n",
    "        'Richness': Richness(),\n",
    "    }\n",
    "    return measures\n",
    "\n",
    "# define_measures()"
   ]
  },
  {
   "cell_type": "code",
   "execution_count": 20,
   "id": "deb8e61c",
   "metadata": {
    "collapsed": true,
    "jupyter": {
     "outputs_hidden": true
    },
    "tags": []
   },
   "outputs": [
    {
     "name": "stdout",
     "output_type": "stream",
     "text": [
      "measureing #Circles (0.40) ...\n"
     ]
    },
    {
     "name": "stderr",
     "output_type": "stream",
     "text": [
      "64it [00:15,  4.25it/s]\n",
      "32it [00:16,  1.92it/s]\n",
      "16it [00:18,  1.17s/it]\n",
      "100%|████████████████████████████████████████████████████████████████████████████| 70971/70971 [05:56<00:00, 199.15it/s]"
     ]
    },
    {
     "name": "stdout",
     "output_type": "stream",
     "text": [
      "#Circles (0.40) :  20744\n",
      "measureing #Circles (0.45) ...\n"
     ]
    },
    {
     "name": "stderr",
     "output_type": "stream",
     "text": [
      "\n",
      "64it [00:17,  3.58it/s]\n",
      "32it [00:09,  3.32it/s]\n",
      "16it [00:08,  1.95it/s]\n",
      "100%|████████████████████████████████████████████████████████████████████████████| 43730/43730 [01:58<00:00, 368.54it/s]\n"
     ]
    },
    {
     "name": "stdout",
     "output_type": "stream",
     "text": [
      "#Circles (0.45) :  11454\n",
      "measureing #Circles (0.50) ...\n"
     ]
    },
    {
     "name": "stderr",
     "output_type": "stream",
     "text": [
      "64it [00:12,  5.04it/s]\n",
      "32it [00:03,  8.65it/s]\n",
      "16it [00:02,  6.53it/s]\n",
      "100%|████████████████████████████████████████████████████████████████████████████| 22555/22555 [00:23<00:00, 971.34it/s]"
     ]
    },
    {
     "name": "stdout",
     "output_type": "stream",
     "text": [
      "#Circles (0.50) :  5463\n",
      "measureing #Circles (0.55) ...\n"
     ]
    },
    {
     "name": "stderr",
     "output_type": "stream",
     "text": [
      "\n",
      "64it [00:07,  8.66it/s]\n",
      "32it [00:01, 20.24it/s]\n",
      "16it [00:01, 15.81it/s]\n",
      "100%|███████████████████████████████████████████████████████████████████████████| 11374/11374 [00:05<00:00, 2073.81it/s]"
     ]
    },
    {
     "name": "stdout",
     "output_type": "stream",
     "text": [
      "#Circles (0.55) :  2602\n",
      "measureing #Circles (0.60) ...\n"
     ]
    },
    {
     "name": "stderr",
     "output_type": "stream",
     "text": [
      "\n",
      "64it [00:04, 14.05it/s]\n",
      "32it [00:00, 66.34it/s]\n",
      "16it [00:00, 54.47it/s]\n",
      "100%|█████████████████████████████████████████████████████████████████████████████| 4752/4752 [00:00<00:00, 4830.92it/s]"
     ]
    },
    {
     "name": "stdout",
     "output_type": "stream",
     "text": [
      "#Circles (0.60) :  963\n",
      "measureing #Circles (0.65) ...\n"
     ]
    },
    {
     "name": "stderr",
     "output_type": "stream",
     "text": [
      "\n",
      "64it [00:03, 19.49it/s]\n",
      "32it [00:00, 180.49it/s]\n",
      "16it [00:00, 155.02it/s]\n",
      "100%|█████████████████████████████████████████████████████████████████████████████| 1816/1816 [00:00<00:00, 7389.27it/s]"
     ]
    },
    {
     "name": "stdout",
     "output_type": "stream",
     "text": [
      "#Circles (0.65) :  353\n",
      "measureing #Circles (0.70) ...\n"
     ]
    },
    {
     "name": "stderr",
     "output_type": "stream",
     "text": [
      "\n",
      "64it [00:02, 24.76it/s]\n",
      "32it [00:00, 351.45it/s]\n",
      "16it [00:00, 266.68it/s]\n",
      "100%|██████████████████████████████████████████████████████████████████████████████| 544/544 [00:00<00:00, 17159.26it/s]"
     ]
    },
    {
     "name": "stdout",
     "output_type": "stream",
     "text": [
      "#Circles (0.70) :  101\n",
      "measureing #Circles (0.75) ...\n"
     ]
    },
    {
     "name": "stderr",
     "output_type": "stream",
     "text": [
      "\n",
      "64it [00:02, 26.33it/s]\n",
      "32it [00:00, 705.89it/s]\n",
      "16it [00:00, 668.00it/s]\n",
      "100%|██████████████████████████████████████████████████████████████████████████████| 165/165 [00:00<00:00, 58963.97it/s]"
     ]
    },
    {
     "name": "stdout",
     "output_type": "stream",
     "text": [
      "#Circles (0.75) :  27\n",
      "measureing #Circles (0.80) ...\n"
     ]
    },
    {
     "name": "stderr",
     "output_type": "stream",
     "text": [
      "\n",
      "64it [00:02, 30.31it/s]\n",
      "32it [00:00, 933.36it/s]\n",
      "16it [00:00, 1449.25it/s]\n",
      "100%|████████████████████████████████████████████████████████████████████████████████| 65/65 [00:00<00:00, 18392.35it/s]"
     ]
    },
    {
     "name": "stdout",
     "output_type": "stream",
     "text": [
      "#Circles (0.80) :  9\n",
      "measureing #Circles (0.85) ...\n"
     ]
    },
    {
     "name": "stderr",
     "output_type": "stream",
     "text": [
      "\n",
      "64it [00:02, 29.04it/s]\n",
      "32it [00:00, 1152.14it/s]\n",
      "16it [00:00, 742.68it/s]\n",
      "100%|████████████████████████████████████████████████████████████████████████████████| 29/29 [00:00<00:00, 35358.96it/s]"
     ]
    },
    {
     "name": "stdout",
     "output_type": "stream",
     "text": [
      "#Circles (0.85) :  3\n",
      "measureing #Circles (0.90) ...\n"
     ]
    },
    {
     "name": "stderr",
     "output_type": "stream",
     "text": [
      "\n",
      "64it [00:02, 30.10it/s]\n",
      "32it [00:00, 1691.32it/s]\n",
      "16it [00:00, 1256.56it/s]\n",
      "100%|████████████████████████████████████████████████████████████████████████████████| 17/17 [00:00<00:00, 44844.76it/s]"
     ]
    },
    {
     "name": "stdout",
     "output_type": "stream",
     "text": [
      "#Circles (0.90) :  1\n",
      "measureing #Circles (0.95) ...\n"
     ]
    },
    {
     "name": "stderr",
     "output_type": "stream",
     "text": [
      "\n",
      "64it [00:02, 29.43it/s]\n",
      "32it [00:00, 1483.12it/s]\n",
      "16it [00:00, 1038.97it/s]\n",
      "100%|████████████████████████████████████████████████████████████████████████████████| 16/16 [00:00<00:00, 17439.93it/s]"
     ]
    },
    {
     "name": "stdout",
     "output_type": "stream",
     "text": [
      "#Circles (0.95) :  1\n",
      "measureing #Circles (1.00) ...\n"
     ]
    },
    {
     "name": "stderr",
     "output_type": "stream",
     "text": [
      "\n",
      "64it [00:02, 28.82it/s]\n",
      "32it [00:00, 1366.68it/s]\n",
      "16it [00:00, 1236.89it/s]\n",
      "100%|████████████████████████████████████████████████████████████████████████████████| 16/16 [00:00<00:00, 19345.31it/s]"
     ]
    },
    {
     "name": "stdout",
     "output_type": "stream",
     "text": [
      "#Circles (1.00) :  1\n",
      "measureing #Circles (1.05) ...\n"
     ]
    },
    {
     "name": "stderr",
     "output_type": "stream",
     "text": [
      "\n",
      "64it [00:02, 29.39it/s]\n",
      "32it [00:00, 1391.41it/s]\n",
      "16it [00:00, 1234.05it/s]\n",
      "100%|████████████████████████████████████████████████████████████████████████████████| 16/16 [00:00<00:00, 22482.03it/s]"
     ]
    },
    {
     "name": "stdout",
     "output_type": "stream",
     "text": [
      "#Circles (1.05) :  1\n"
     ]
    },
    {
     "name": "stderr",
     "output_type": "stream",
     "text": [
      "\n"
     ]
    }
   ],
   "source": [
    "measures = define_measures()\n",
    "results = dict()\n",
    "circs = None\n",
    "for name, measure in measures.items():\n",
    "    print('measureing', name, '...')\n",
    "    if isinstance(measure, DissimilarityBasedMeasure):\n",
    "        # idxs = [i for i in range(len(mols)) if random.random() < 0.01]\n",
    "        # vecs_ = [vecs[i] for i in idxs]\n",
    "        vecs_ = vecs\n",
    "        val = measure.measure(vecs_, is_vec=True)\n",
    "    elif isinstance(measure, NCircles):\n",
    "        val, circs = measure.measure(vecs, is_vec=True, n_chunk=64)\n",
    "    else: val = measure.measure(mols)\n",
    "    results[name] = val\n",
    "    print(name, ': ', val)"
   ]
  },
  {
   "cell_type": "code",
   "execution_count": 21,
   "id": "38e5ba03",
   "metadata": {},
   "outputs": [
    {
     "name": "stdout",
     "output_type": "stream",
     "text": [
      "{'#Circles (0.40)': 20744, '#Circles (0.45)': 11454, '#Circles (0.50)': 5463, '#Circles (0.55)': 2602, '#Circles (0.60)': 963, '#Circles (0.65)': 353, '#Circles (0.70)': 101, '#Circles (0.75)': 27, '#Circles (0.80)': 9, '#Circles (0.85)': 3, '#Circles (0.90)': 1, '#Circles (0.95)': 1, '#Circles (1.00)': 1, '#Circles (1.05)': 1}\n"
     ]
    }
   ],
   "source": [
    "print(results)"
   ]
  },
  {
   "cell_type": "code",
   "execution_count": 22,
   "id": "99fe6216-a783-4e94-94f9-acfefcea37bb",
   "metadata": {},
   "outputs": [
    {
     "name": "stdout",
     "output_type": "stream",
     "text": [
      "20744,11454,5463,2602,963,353,101,27,9,3,1\n"
     ]
    }
   ],
   "source": [
    "print(','.join(['%i' % v for v in results.values()][:-3]))"
   ]
  },
  {
   "cell_type": "code",
   "execution_count": 23,
   "id": "ccbf82aa",
   "metadata": {},
   "outputs": [],
   "source": [
    "random.shuffle(vecs)"
   ]
  },
  {
   "cell_type": "code",
   "execution_count": 24,
   "id": "22775e88",
   "metadata": {},
   "outputs": [],
   "source": [
    "# pickle.dump(circs, open('circs_qed_enamine.pkl', 'wb'))"
   ]
  },
  {
   "cell_type": "code",
   "execution_count": null,
   "id": "fd802fae",
   "metadata": {},
   "outputs": [],
   "source": []
  },
  {
   "cell_type": "code",
   "execution_count": null,
   "id": "b4819d21-d3d4-4595-b2dc-04e79ca7c3c8",
   "metadata": {},
   "outputs": [],
   "source": []
  }
 ],
 "metadata": {
  "environment": {
   "kernel": "py37",
   "name": "common-cpu.m96",
   "type": "gcloud",
   "uri": "gcr.io/deeplearning-platform-release/base-cpu:m96"
  },
  "kernelspec": {
   "display_name": "chem-measure",
   "language": "python",
   "name": "chem-measure"
  },
  "language_info": {
   "codemirror_mode": {
    "name": "ipython",
    "version": 3
   },
   "file_extension": ".py",
   "mimetype": "text/x-python",
   "name": "python",
   "nbconvert_exporter": "python",
   "pygments_lexer": "ipython3",
   "version": "3.7.13"
  }
 },
 "nbformat": 4,
 "nbformat_minor": 5
}
