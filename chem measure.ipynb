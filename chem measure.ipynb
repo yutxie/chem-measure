{
 "cells": [
  {
   "cell_type": "code",
   "execution_count": null,
   "id": "ca1c139a",
   "metadata": {},
   "outputs": [],
   "source": [
    "import os\n",
    "import rdkit\n",
    "import random\n",
    "import pickle\n",
    "import numpy as np\n",
    "import rdkit.Chem.QED as QED\n",
    "# import pandas as pd\n",
    "# import seaborn as sns\n",
    "# import matplotlib.pyplot as plt\n",
    "from tqdm import tqdm\n",
    "from tqdm.contrib.concurrent import process_map\n",
    "from rdkit import Chem\n",
    "from rdkit.Chem import Draw\n",
    "from rdkit.Chem import AllChem\n",
    "\n",
    "import sa_scorer\n",
    "from measures import *\n",
    "from utils import *"
   ]
  },
  {
   "cell_type": "markdown",
   "id": "eada43fa",
   "metadata": {},
   "source": [
    "## Load Molecular Database"
   ]
  },
  {
   "cell_type": "code",
   "execution_count": null,
   "id": "4d0f3032",
   "metadata": {},
   "outputs": [],
   "source": [
    "smiles = []\n",
    "mols = [] \n",
    "vecs = []"
   ]
  },
  {
   "cell_type": "markdown",
   "id": "43c18b3b",
   "metadata": {},
   "source": [
    "### ChEMBL & ENAMINE"
   ]
  },
  {
   "cell_type": "code",
   "execution_count": null,
   "id": "4a690499",
   "metadata": {},
   "outputs": [],
   "source": [
    "file_name = 'chembl_31.sdf'\n",
    "# file_name = 'Enamine_Discovery_Diversity_Set_50240_DDS-50_20211022.sdf'\n",
    "# file_name = 'Enamine_Hit_Locator_Library_HLL-460_460160cmpds_20220221.sdf'\n",
    "with Chem.SDMolSupplier(os.path.join('data', file_name)) as suppl:\n",
    "    for mol in tqdm(suppl):\n",
    "        if mol is None: continue\n",
    "        mols.append(mol)\n",
    "\n",
    "len(mols)"
   ]
  },
  {
   "cell_type": "markdown",
   "id": "84e4bd9b",
   "metadata": {},
   "source": [
    "### ZINC 250k"
   ]
  },
  {
   "cell_type": "code",
   "execution_count": null,
   "id": "5a400998",
   "metadata": {},
   "outputs": [],
   "source": [
    "with open('data/250k_rndm_zinc_drugs_clean_3.csv', 'r') as f:\n",
    "    lines = f.readlines()\n",
    "    for i, line in enumerate(lines):\n",
    "        if i % 2 == 0: continue\n",
    "        smi = line[1:-1]\n",
    "        smiles.append(smi)"
   ]
  },
  {
   "cell_type": "markdown",
   "id": "c511d34f",
   "metadata": {
    "toc-hr-collapsed": true
   },
   "source": [
    "### GDB-17"
   ]
  },
  {
   "cell_type": "code",
   "execution_count": null,
   "id": "21c36299",
   "metadata": {},
   "outputs": [],
   "source": [
    "with open('data/GDB17.50000000LL.smi', 'r') as f:\n",
    "    lines = f.readlines()\n",
    "    lines = [line.strip() for line in lines]\n",
    "    smiles = lines"
   ]
  },
  {
   "cell_type": "markdown",
   "id": "05d35be8",
   "metadata": {},
   "source": [
    "### MOSES"
   ]
  },
  {
   "cell_type": "code",
   "execution_count": null,
   "id": "6644aa83",
   "metadata": {
    "scrolled": true,
    "tags": []
   },
   "outputs": [],
   "source": [
    "with open('data/moses_dataset_v1.csv', 'r') as f:\n",
    "    lines = f.readlines()\n",
    "    for i, line in enumerate(lines):\n",
    "        if i == 0: continue\n",
    "        smi = line.strip().split(',')[0]\n",
    "        smiles.append(smi)"
   ]
  },
  {
   "cell_type": "markdown",
   "id": "f6731045",
   "metadata": {},
   "source": [
    "### Filtered mols"
   ]
  },
  {
   "cell_type": "code",
   "execution_count": null,
   "id": "b6cd77f8",
   "metadata": {},
   "outputs": [],
   "source": [
    "# import _pickle as pickle\n",
    "# import cPickle as pickle\n",
    "\n",
    "mols = []\n",
    "file_names = ['zinc', 'enamine', 'moses', 'chembl', 'gdb']\n",
    "for file_name in file_names:\n",
    "    m = pickle.load(open(os.path.join('mols/databases/', 'jnk3_{}.pkl'.format(file_name)), 'rb'))\n",
    "    print('loaded', len(m), 'mols for', file_name)\n",
    "    mols += m\n",
    "print(len(mols))"
   ]
  },
  {
   "cell_type": "markdown",
   "id": "52d15b72",
   "metadata": {},
   "source": [
    "### MARS generated"
   ]
  },
  {
   "cell_type": "code",
   "execution_count": null,
   "id": "898658ce",
   "metadata": {},
   "outputs": [],
   "source": [
    "import pandas as pd\n",
    "\n",
    "file_name = 'mols/mars+nc/mols5.csv'\n",
    "\n",
    "df = pd.read_csv(file_name, header=0, sep=',')\n",
    "for col in df.columns:\n",
    "    if col == 'SMILES': continue\n",
    "    df[col] = pd.to_numeric(df[col], errors='coerce')\n",
    "df = df.dropna()\n",
    "df = df.drop_duplicates(subset='SMILES')\n",
    "\n",
    "MAX_STEP = 2000\n",
    "df = df[df['Step'] <= MAX_STEP]\n",
    "# df = df[df['Step'] == MAX_STEP]\n",
    "df"
   ]
  },
  {
   "cell_type": "code",
   "execution_count": null,
   "id": "cd14dcbc",
   "metadata": {},
   "outputs": [],
   "source": [
    "df['succ'] = \\\n",
    "    ((df['jnk3'] >= 0.5) & \\\n",
    "    (df['qed' ] >= 0.6) & \\\n",
    "    (df['sa'  ] >= .67)).tolist()\n",
    "df['score'] = df['jnk3'] + df['qed'] + df['sa']\n",
    "df_succ = df[df['succ'] == True]\n",
    "df_succ"
   ]
  },
  {
   "cell_type": "code",
   "execution_count": null,
   "id": "6d3354ed",
   "metadata": {},
   "outputs": [],
   "source": [
    "smiles = list(df_succ['SMILES'])"
   ]
  },
  {
   "cell_type": "markdown",
   "id": "7adbb82d-ee1b-4873-b324-2f068e6e9dac",
   "metadata": {},
   "source": [
    "### DST generated"
   ]
  },
  {
   "cell_type": "code",
   "execution_count": null,
   "id": "aa9e13ca-be48-460b-b85d-e3f0f8199379",
   "metadata": {},
   "outputs": [],
   "source": [
    "pkl_file = \"mols/mols_DST2.pkl\"\n",
    "idx_2_smiles2f, trace_dict = pickle.load(open(pkl_file, 'rb'))\n",
    "# bestvalue, best_smiles = 0, ''\n",
    "topk = 100\n",
    "whole_smiles2f = dict()\n",
    "for idx, (smiles2f,current_set) in tqdm(idx_2_smiles2f.items()):\n",
    "    whole_smiles2f.update(smiles2f)\n",
    "\n",
    "smiles = [smi for smi,f in whole_smiles2f.items()]\n",
    "# smiles_f_lst = [(smiles,f) for smiles,f in whole_smiles2f.items()]\n",
    "# smiles_f_lst.sort(key=lambda x:x[1], reverse=True)\n",
    "# best_smiles_lst = [smiles for smiles,f in smiles_f_lst[:topk]]\n",
    "# best_f_lst = [f for smiles,f in smiles_f_lst[:topk]]"
   ]
  },
  {
   "cell_type": "markdown",
   "id": "d7b9bc3e-71d2-4511-a13d-2fe179d68bc5",
   "metadata": {},
   "source": [
    "### JANUS generated"
   ]
  },
  {
   "cell_type": "code",
   "execution_count": null,
   "id": "53103db7-fe86-42bb-9b59-92e6fadb17e4",
   "metadata": {},
   "outputs": [],
   "source": [
    "smiles = []\n",
    "for i in range(10):\n",
    "    for file_name in ['population_explore', 'population_local_search']:\n",
    "        with open('mols/mols_JANUS/{}_DATA/{}.txt'.format(i, file_name), 'r') as f:\n",
    "            lines = f.readlines()\n",
    "            smiles += lines[0].strip().split(' ')"
   ]
  },
  {
   "cell_type": "markdown",
   "id": "903351a4-20d7-4a9c-9e4b-e4a368f52f23",
   "metadata": {},
   "source": [
    "### RationaleRL generated"
   ]
  },
  {
   "cell_type": "code",
   "execution_count": null,
   "id": "ce9ac6fd-0b1b-4137-9c59-25e1720d9381",
   "metadata": {},
   "outputs": [],
   "source": [
    "with open('mols/mols_RationaleRL3.txt', 'r') as f:\n",
    "    lines = f.readlines()\n",
    "    lines = [line.strip() for line in lines]\n",
    "    smiles = lines"
   ]
  },
  {
   "cell_type": "markdown",
   "id": "2b8a4ce0",
   "metadata": {},
   "source": [
    "## Transforming and filtering"
   ]
  },
  {
   "cell_type": "code",
   "execution_count": null,
   "id": "5756b973",
   "metadata": {
    "scrolled": true,
    "tags": []
   },
   "outputs": [],
   "source": [
    "def mol_from_smiles(x):\n",
    "    return Chem.MolFromSmiles(x)\n",
    "\n",
    "smiles = list(set(smiles))\n",
    "len(smiles)\n",
    "mols = process_map(mol_from_smiles, smiles, chunksize=1000)\n",
    "mols = [mol for mol in mols if mol is not None]\n",
    "len(mols)"
   ]
  },
  {
   "cell_type": "code",
   "execution_count": null,
   "id": "60b7c54b-4486-4d53-9d62-4ef8b0b8fa80",
   "metadata": {},
   "outputs": [],
   "source": [
    "smiles = list(set([Chem.MolToSmiles(mol) for mol in mols]))\n",
    "smiles = list(set(smiles))\n",
    "mols = process_map(mol_from_smiles, smiles, chunksize=1000)\n",
    "len(mols)"
   ]
  },
  {
   "cell_type": "code",
   "execution_count": null,
   "id": "426aab9a",
   "metadata": {},
   "outputs": [],
   "source": [
    "_fscores = None\n",
    "def readFragmentScores(name='fpscores'):\n",
    "    import gzip\n",
    "    import pickle\n",
    "    global _fscores\n",
    "    # generate the full path filename:\n",
    "    _fscores = pickle.load(gzip.open('fpscores.pkl.gz'))\n",
    "    outDict = {}\n",
    "    for i in _fscores:\n",
    "        for j in range(1, len(i)):\n",
    "            outDict[i[j]] = float(i[0])\n",
    "    _fscores = outDict\n",
    "readFragmentScores(name='fpscores')\n",
    "\n",
    "def sa(mol):\n",
    "    x = sa_scorer.calculateScore(mol, _fscores=_fscores)\n",
    "    return (10. - x) / 9. # normalized to [0, 1]\n",
    "\n",
    "def map_filter(mol):\n",
    "    if      sa(mol) < .67: return None\n",
    "    if QED.qed(mol) < 0.6: return None\n",
    "    return mol\n",
    "\n",
    "def map_filter_from_smi(smi):\n",
    "    mol = mol_from_smiles(smi)\n",
    "    if      sa(mol) < .67: return None\n",
    "    if QED.qed(mol) < 0.6: return None\n",
    "    return mol\n",
    "\n",
    "# map_filter(mols[0])\n",
    "# map_filter_from_smi(smiles[0])"
   ]
  },
  {
   "cell_type": "code",
   "execution_count": null,
   "id": "f73310cf",
   "metadata": {
    "scrolled": true,
    "tags": []
   },
   "outputs": [],
   "source": [
    "mols = process_map(map_filter, mols, chunksize=1000)\n",
    "# mols = process_map(map_filter_from_smi, smiles, chunksize=1000)\n",
    "# mols = [map_filter(mol_from_smiles(smi)) for smi in tqdm(smiles)]\n",
    "mols = [mol for mol in mols if mol is not None]\n",
    "len(mols)"
   ]
  },
  {
   "cell_type": "code",
   "execution_count": null,
   "id": "b8e3e6e6",
   "metadata": {},
   "outputs": [],
   "source": [
    "# pickle.dump(mols, open('qed_gdb.pkl', 'wb'))\n",
    "# mols = pickle.load(open('qed_gdb.pkl', 'rb'))\n",
    "# len(mols)"
   ]
  },
  {
   "cell_type": "code",
   "execution_count": null,
   "id": "e67fa31c",
   "metadata": {},
   "outputs": [],
   "source": [
    "ROOT_DIR = ''\n",
    "TASKS = ['gsk3b', 'jnk3']\n",
    "SPLITS = ['val', 'dev']\n",
    "\n",
    "models = {}\n",
    "def load_model(task):\n",
    "    with open(os.path.join(ROOT_DIR, 'kinase_rf/%s.pkl' % task), 'rb') as f:\n",
    "        models[task] = pickle.load(f, encoding='iso-8859-1')\n",
    "load_model('jnk3')"
   ]
  },
  {
   "cell_type": "code",
   "execution_count": null,
   "id": "dd785fd2",
   "metadata": {},
   "outputs": [],
   "source": [
    "# mols = pickle.load(open('mols/databases/qed_moses.pkl', 'rb'))\n",
    "# len(mols)"
   ]
  },
  {
   "cell_type": "code",
   "execution_count": null,
   "id": "6dcb6f3f",
   "metadata": {},
   "outputs": [],
   "source": [
    "def fingerprints_from_mol(mol):\n",
    "    fp = AllChem.GetMorganFingerprintAsBitVect(mol, 2, 1024)\n",
    "    nfp = np.zeros((0, ), dtype=np.int8)\n",
    "    DataStructs.ConvertToNumpyArray(fp, nfp)\n",
    "    return nfp\n",
    "\n",
    "def map_predict(args):\n",
    "    model, batch = args\n",
    "    return model.predict_proba(batch)[:,1]\n",
    "\n",
    "def get_scores(task, mols):\n",
    "    if len(mols) == 0: return []\n",
    "    model = models.get(task)\n",
    "    if model is None:\n",
    "        load_model(task)\n",
    "        model = models[task]\n",
    "        \n",
    "    fps = [fingerprints_from_mol(mol) for mol in mols]\n",
    "    fps = np.stack(fps, axis=0)\n",
    "    batches = np.array_split(fps, fps.shape[0]//512)\n",
    "    args = zip([models[task]] * len(batches), batches)\n",
    "    scores = process_map(map_predict, args, chunksize=1000)\n",
    "    scores = np.concatenate(scores).tolist()\n",
    "#     scores = models[task].predict_proba(fps)\n",
    "#     scores = scores[:,1].tolist()\n",
    "    return scores"
   ]
  },
  {
   "cell_type": "code",
   "execution_count": null,
   "id": "ef324171",
   "metadata": {},
   "outputs": [],
   "source": [
    "scores = get_scores('jnk3', mols)"
   ]
  },
  {
   "cell_type": "code",
   "execution_count": null,
   "id": "9e6237de",
   "metadata": {},
   "outputs": [],
   "source": [
    "mols_jnk3 = [mol for mol, score in zip(mols, scores) if score >= 0.5]\n",
    "len(mols_jnk3)"
   ]
  },
  {
   "cell_type": "code",
   "execution_count": null,
   "id": "22bc206b-ad6e-4723-a6b1-59c0a750f49a",
   "metadata": {},
   "outputs": [],
   "source": [
    "mols = mols_jnk3"
   ]
  },
  {
   "cell_type": "code",
   "execution_count": null,
   "id": "62d121c9",
   "metadata": {},
   "outputs": [],
   "source": [
    "# pickle.dump(mols_jnk3, open('jnk3_gdb.pkl', 'wb'))"
   ]
  },
  {
   "cell_type": "code",
   "execution_count": null,
   "id": "083ea533",
   "metadata": {},
   "outputs": [],
   "source": [
    "vecs = process_map(fingerprint, mols, chunksize=1000)"
   ]
  },
  {
   "cell_type": "markdown",
   "id": "47edb844",
   "metadata": {},
   "source": [
    "## Measuring"
   ]
  },
  {
   "cell_type": "code",
   "execution_count": null,
   "id": "6184ebc9",
   "metadata": {},
   "outputs": [],
   "source": [
    "def define_measures():\n",
    "    vectorizer = fingerprints\n",
    "    sim_mat_func = similarity_matrix_tanimoto\n",
    "    measures = {}\n",
    "    for t in np.arange(0.4, 1.1, 0.05):\n",
    "        measures['#Circles (%.2f)' % t] = NCircles(vectorizer=vectorizer, sim_mat_func=sim_mat_func, threshold=t)\n",
    "    return measures\n",
    "    measures = {\n",
    "        # 'Diversity' : Diversity(vectorizer=vectorizer, sim_mat_func=sim_mat_func),\n",
    "#         'SumDiversity' : SumDiversity(vectorizer=vectorizer, sim_mat_func=sim_mat_func),\n",
    "#         'Diameter' : Diameter(vectorizer=vectorizer, sim_mat_func=sim_mat_func),\n",
    "#         'SumDiameter' : SumDiameter(vectorizer=vectorizer, sim_mat_func=sim_mat_func),\n",
    "#         'Bottleneck' : Bottleneck(vectorizer=vectorizer, sim_mat_func=sim_mat_func),\n",
    "        # 'SumBottleneck' : SumBottleneck(vectorizer=vectorizer, sim_mat_func=sim_mat_func),\n",
    "#         'DPP' : DPP(vectorizer=vectorizer, sim_mat_func=sim_mat_func),\n",
    "        # '#FG' : NFragment(frag='FG'),\n",
    "        # '#RS' : NFragment(frag='RS'),\n",
    "        # '#BM' : NBM(),\n",
    "        '#Circles (0.75)': NCircles(vectorizer=vectorizer, sim_mat_func=sim_mat_func, threshold=0.75),\n",
    "        'Richness': Richness(),\n",
    "    }\n",
    "    return measures\n",
    "\n",
    "# define_measures()"
   ]
  },
  {
   "cell_type": "code",
   "execution_count": null,
   "id": "deb8e61c",
   "metadata": {
    "collapsed": true,
    "jupyter": {
     "outputs_hidden": true
    },
    "tags": []
   },
   "outputs": [],
   "source": [
    "measures = define_measures()\n",
    "results = dict()\n",
    "circs = None\n",
    "for name, measure in measures.items():\n",
    "    print('measureing', name, '...')\n",
    "    if isinstance(measure, DissimilarityBasedMeasure):\n",
    "        # idxs = [i for i in range(len(mols)) if random.random() < 0.01]\n",
    "        # vecs_ = [vecs[i] for i in idxs]\n",
    "        vecs_ = vecs\n",
    "        val = measure.measure(vecs_, is_vec=True)\n",
    "    elif isinstance(measure, NCircles):\n",
    "        val, circs = measure.measure(vecs, is_vec=True, n_chunk=64)\n",
    "    else: val = measure.measure(mols)\n",
    "    results[name] = val\n",
    "    print(name, ': ', val)"
   ]
  },
  {
   "cell_type": "code",
   "execution_count": null,
   "id": "38e5ba03",
   "metadata": {},
   "outputs": [],
   "source": [
    "print(results)"
   ]
  },
  {
   "cell_type": "code",
   "execution_count": null,
   "id": "99fe6216-a783-4e94-94f9-acfefcea37bb",
   "metadata": {},
   "outputs": [],
   "source": [
    "print(','.join(['%i' % v for v in results.values()][:-3]))"
   ]
  },
  {
   "cell_type": "code",
   "execution_count": null,
   "id": "ccbf82aa",
   "metadata": {},
   "outputs": [],
   "source": [
    "random.shuffle(vecs)"
   ]
  },
  {
   "cell_type": "code",
   "execution_count": null,
   "id": "22775e88",
   "metadata": {},
   "outputs": [],
   "source": [
    "# pickle.dump(circs, open('circs_qed_enamine.pkl', 'wb'))"
   ]
  },
  {
   "cell_type": "code",
   "execution_count": null,
   "id": "fd802fae",
   "metadata": {},
   "outputs": [],
   "source": []
  },
  {
   "cell_type": "code",
   "execution_count": null,
   "id": "b4819d21-d3d4-4595-b2dc-04e79ca7c3c8",
   "metadata": {},
   "outputs": [],
   "source": []
  }
 ],
 "metadata": {
  "environment": {
   "kernel": "py37",
   "name": "common-cpu.m96",
   "type": "gcloud",
   "uri": "gcr.io/deeplearning-platform-release/base-cpu:m96"
  },
  "kernelspec": {
   "display_name": "chem-measure",
   "language": "python",
   "name": "chem-measure"
  },
  "language_info": {
   "codemirror_mode": {
    "name": "ipython",
    "version": 3
   },
   "file_extension": ".py",
   "mimetype": "text/x-python",
   "name": "python",
   "nbconvert_exporter": "python",
   "pygments_lexer": "ipython3",
   "version": "3.7.13"
  }
 },
 "nbformat": 4,
 "nbformat_minor": 5
}
