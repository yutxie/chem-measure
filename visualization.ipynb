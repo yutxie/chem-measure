{
 "cells": [
  {
   "cell_type": "code",
   "execution_count": null,
   "metadata": {},
   "outputs": [],
   "source": [
    "import os\n",
    "import rdkit\n",
    "import random\n",
    "import numpy as np\n",
    "import pandas as pd\n",
    "import seaborn as sns\n",
    "import matplotlib.pyplot as plt\n",
    "from tqdm import tqdm\n",
    "from rdkit import Chem\n",
    "from rdkit.Chem import Draw\n",
    "from rdkit.Chem import AllChem"
   ]
  },
  {
   "cell_type": "code",
   "execution_count": null,
   "metadata": {},
   "outputs": [],
   "source": [
    "import pandas as pd\n",
    "\n",
    "file_names = [\n",
    "    'data/mols/mols.txt',\n",
    "    'data/mols/mols (1).txt',\n",
    "    'data/mols/mols (2).txt'\n",
    "]\n",
    "\n",
    "dfs = []\n",
    "for file_name in file_names:\n",
    "    df = pd.read_csv(file_name, header=1, sep='\\t')\n",
    "    for col in df.columns:\n",
    "        if col == 'smiles': continue\n",
    "        df[col] = pd.to_numeric(df[col], errors='coerce')\n",
    "    df = df.dropna()\n",
    "    df = df.drop_duplicates(subset='smiles')\n",
    "    dfs.append(df)"
   ]
  },
  {
   "cell_type": "code",
   "execution_count": null,
   "metadata": {},
   "outputs": [],
   "source": [
    "MAX_STEP = 4800\n",
    "for i in range(len(dfs)):\n",
    "    dfs[i] = dfs[i][dfs[i]['#'] <= MAX_STEP]"
   ]
  },
  {
   "cell_type": "code",
   "execution_count": null,
   "metadata": {},
   "outputs": [],
   "source": [
    "for df in dfs:\n",
    "    df['succ'] = \\\n",
    "        (df['jnk3'] >= 0.5) & \\\n",
    "        (df['qed' ] >= 0.6) & \\\n",
    "        (df['sa'  ] >= .67)\n",
    "    df['score'] = df['jnk3'] + df['qed'] + df['sa']"
   ]
  },
  {
   "cell_type": "code",
   "execution_count": null,
   "metadata": {},
   "outputs": [],
   "source": [
    "for i, df in enumerate(dfs):\n",
    "    df = df.groupby('#').sum()\n",
    "    \n",
    "    n_succ = 0\n",
    "    n_succs = []\n",
    "    for row in df.iterrows():\n",
    "        n_succ += row[1]['succ']\n",
    "        n_succs.append(n_succ)\n",
    "    l = len(n_succs)\n",
    "    sns.lineplot(\n",
    "        x=list(range(l)),\n",
    "        y=n_succs,\n",
    "        hue=[i] * l\n",
    "    )\n",
    "plt.show()"
   ]
  },
  {
   "cell_type": "code",
   "execution_count": null,
   "metadata": {},
   "outputs": [],
   "source": [
    "dfs_succ = []\n",
    "for df in dfs:\n",
    "    dfs_succ.append(df[df['succ']==True])"
   ]
  },
  {
   "cell_type": "code",
   "execution_count": null,
   "metadata": {},
   "outputs": [],
   "source": [
    "from measures import *\n",
    "\n",
    "ncircs = []\n",
    "for df in dfs_succ:\n",
    "    smiles = df['smiles']\n",
    "    mols = [Chem.MolFromSmiles(smi) for smi in tqdm(smiles)]\n",
    "    ncirc = NCirc(threshold=0.4)\n",
    "    ncirc.update(mols)\n",
    "    print(ncirc.report())\n",
    "    ncircs.append(ncirc)"
   ]
  },
  {
   "cell_type": "code",
   "execution_count": null,
   "metadata": {},
   "outputs": [],
   "source": [
    "def similarity_matrix(mols_A, mols_B):\n",
    "    fps_A = [fingerprint(mol) for mol in mols_A]\n",
    "    fps_B = [fingerprint(mol) for mol in mols_B]\n",
    "    sim_mat = [similarities(fp, fps_B) for fp in tqdm(fps_A)]\n",
    "    sim_mat = np.array(sim_mat)\n",
    "    return sim_mat\n",
    "\n",
    "UNION_TH = 0.4\n",
    "\n",
    "def circ_union(mols_A, mols_B):\n",
    "    sim_mat =similarity_matrix(mols_A, mols_B)\n",
    "    indices_A = np.where(sim_mat.max(axis=1) >= UNION_TH)[0].tolist()\n",
    "    indices_B = np.where(sim_mat.max(axis=0) >= UNION_TH)[0].tolist()\n",
    "    AB = [mols_A[i] for i in indices_A] + \\\n",
    "         [mols_B[i] for i in indices_B]\n",
    "    return AB\n",
    "\n",
    "def circ_minus(mols_A, mols_B):\n",
    "    sim_mat =similarity_matrix(mols_A, mols_B)\n",
    "    indices_A = np.where(sim_mat.max(axis=1) < UNION_TH)[0].tolist()\n",
    "    indices_B = np.where(sim_mat.max(axis=0) < UNION_TH)[0].tolist()\n",
    "    Ab = [mols_A[i] for i in indices_A]\n",
    "    bA = [mols_B[i] for i in indices_B]\n",
    "    return Ab, bA"
   ]
  },
  {
   "cell_type": "code",
   "execution_count": null,
   "metadata": {},
   "outputs": [],
   "source": [
    "ABC = circ_union(circ_union(ncircs[0].circ_mols, ncircs[1].circ_mols), ncircs[2].circ_mols)\n",
    "aBC = circ_minus(ncircs[0].circ_mols, circ_union(ncircs[1].circ_mols, ncircs[2].circ_mols))[1]\n",
    "AbC = circ_minus(ncircs[1].circ_mols, circ_union(ncircs[0].circ_mols, ncircs[2].circ_mols))[1]\n",
    "ABc = circ_minus(ncircs[2].circ_mols, circ_union(ncircs[1].circ_mols, ncircs[0].circ_mols))[1]\n",
    "Abc = circ_minus(circ_minus(ncircs[0].circ_mols, ncircs[1].circ_mols)[0], ncircs[2].circ_mols)[0]\n",
    "aBc = circ_minus(circ_minus(ncircs[1].circ_mols, ncircs[0].circ_mols)[0], ncircs[2].circ_mols)[0]\n",
    "abC = circ_minus(circ_minus(ncircs[2].circ_mols, ncircs[1].circ_mols)[0], ncircs[0].circ_mols)[0]"
   ]
  },
  {
   "cell_type": "code",
   "execution_count": null,
   "metadata": {},
   "outputs": [],
   "source": [
    "print(len(ABC), len(aBC), len(AbC), len(ABc), len(Abc), len(aBc), len(abC))"
   ]
  },
  {
   "cell_type": "code",
   "execution_count": null,
   "metadata": {},
   "outputs": [],
   "source": [
    "AB = circ_union(ncircs[0].circ_mols, ncircs[2].circ_mols)\n",
    "Ab, aB = circ_minus(ncircs[0].circ_mols, ncircs[2].circ_mols)\n",
    "print(len(AB), len(Ab), len(aB))"
   ]
  },
  {
   "cell_type": "code",
   "execution_count": null,
   "metadata": {},
   "outputs": [],
   "source": [
    "Draw.MolsToGridImage(Ab, molsPerRow=5)"
   ]
  },
  {
   "cell_type": "code",
   "execution_count": null,
   "metadata": {},
   "outputs": [],
   "source": [
    "Draw.MolsToGridImage(aB, molsPerRow=5)"
   ]
  },
  {
   "cell_type": "code",
   "execution_count": null,
   "metadata": {},
   "outputs": [],
   "source": [
    "dfs_sampled = []\n",
    "for df in dfs_succ:\n",
    "    dfs_sampled.append(df.sample(frac=0.01))"
   ]
  },
  {
   "cell_type": "code",
   "execution_count": null,
   "metadata": {},
   "outputs": [],
   "source": [
    "smiles = []\n",
    "for df in dfs_sampled:\n",
    "    smiles += df['smiles'].tolist()\n",
    "mols = [Chem.MolFromSmiles(smi) for smi in tqdm(smiles)]\n",
    "fps  = [AllChem.GetMorganFingerprintAsBitVect(mol, 2, nBits=1024) for mol in tqdm(mols)]\n",
    "nfps = np.stack([np.array(fp) for fp in tqdm(fps)])"
   ]
  },
  {
   "cell_type": "code",
   "execution_count": null,
   "metadata": {},
   "outputs": [],
   "source": [
    "from utils import fingerprint, similarities\n",
    "\n",
    "sim_mat = np.array([similarities(fp, fps) for fp in tqdm(fps)])"
   ]
  },
  {
   "cell_type": "code",
   "execution_count": null,
   "metadata": {},
   "outputs": [],
   "source": [
    "plt.figure(figsize=(20, 15))\n",
    "sns.heatmap(sim_mat, vmin=0, vmax=1.0)"
   ]
  },
  {
   "cell_type": "code",
   "execution_count": null,
   "metadata": {},
   "outputs": [],
   "source": [
    "import umap\n",
    "import matplotlib.pyplot as plt\n",
    "from sklearn.decomposition import TruncatedSVD, PCA, KernelPCA\n",
    "from sklearn.manifold import MDS\n",
    "\n",
    "COLORS = ['red', 'blue', 'green']\n",
    "\n",
    "def visualize(train=None):\n",
    "#     mapper = umap.UMAP(metric='jaccard', n_neighbors=200, min_dist=0.99)\n",
    "#     mapper = TruncatedSVD(n_components=2, n_iter=10)\n",
    "#     mapper = PCA(n_components=2)\n",
    "#     mapper = KernelPCA(n_components=2, kernel='rbf')\n",
    "#     if train is None: mapper = mapper.fit(nfps)\n",
    "#     else:\n",
    "#         beg = sum([dfs_sampled[j].shape[0] for j in range(train)]) if train > 0 else 0\n",
    "#         num = dfs_sampled[train].shape[0]\n",
    "#         mapper = mapper.fit(nfps[beg:beg+num])\n",
    "#     X = mapper.transform(nfps)\n",
    "\n",
    "    mapper = MDS(n_components=2, dissimilarity='precomputed')\n",
    "    X = mapper.fit_transform(1-sim_mat)\n",
    "    \n",
    "    labels = []\n",
    "    for i in range(len(dfs_sampled)):\n",
    "        labels += [COLORS[i]] * dfs_sampled[i].shape[0]\n",
    "\n",
    "    plt.figure(figsize=(15, 10))\n",
    "    plt.scatter(x=X[:,0], y=X[:,1], c=labels, s=1)\n",
    "    plt.show()"
   ]
  },
  {
   "cell_type": "code",
   "execution_count": null,
   "metadata": {},
   "outputs": [],
   "source": [
    "visualize()"
   ]
  },
  {
   "cell_type": "code",
   "execution_count": null,
   "metadata": {},
   "outputs": [],
   "source": [
    "visualize(0)"
   ]
  },
  {
   "cell_type": "code",
   "execution_count": null,
   "metadata": {},
   "outputs": [],
   "source": [
    "visualize(1)"
   ]
  },
  {
   "cell_type": "code",
   "execution_count": null,
   "metadata": {},
   "outputs": [],
   "source": [
    "visualize(2)"
   ]
  },
  {
   "cell_type": "code",
   "execution_count": null,
   "metadata": {},
   "outputs": [],
   "source": [
    "import umap\n",
    "from sklearn.decomposition import TruncatedSVD, PCA, KernelPCA\n",
    "from sklearn.manifold import MDS\n",
    "\n",
    "COLORS = ['red', 'blue', 'green']"
   ]
  },
  {
   "cell_type": "code",
   "execution_count": null,
   "metadata": {},
   "outputs": [],
   "source": [
    "fps = []\n",
    "for ncirc in ncircs:\n",
    "    fps += ncirc.circ_fps\n",
    "nfps = np.stack([np.array(fp) for fp in tqdm(fps)])\n",
    "mapper = umap.UMAP(metric='jaccard', n_neighbors=200, min_dist=0.99)\n",
    "mapper = mapper.fit(nfps)\n",
    "X = mapper.transform(nfps)"
   ]
  },
  {
   "cell_type": "code",
   "execution_count": null,
   "metadata": {},
   "outputs": [],
   "source": [
    "labels = []\n",
    "for i in range(len(circles)):\n",
    "    labels += [COLORS[i]] * len(circles[i])\n",
    "\n",
    "plt.figure(figsize=(15, 10))\n",
    "# plt.scatter(x=X[:,0], y=X[:,1], c=labels, s=200, alpha=0.5)\n",
    "plt.scatter(x=X[::-1,0], y=X[::-1,1], c=labels[::-1], s=200, alpha=0.5)\n",
    "plt.show()"
   ]
  },
  {
   "cell_type": "code",
   "execution_count": null,
   "metadata": {},
   "outputs": [],
   "source": []
  }
 ],
 "metadata": {
  "kernelspec": {
   "display_name": "em",
   "language": "python",
   "name": "em"
  },
  "language_info": {
   "codemirror_mode": {
    "name": "ipython",
    "version": 3
   },
   "file_extension": ".py",
   "mimetype": "text/x-python",
   "name": "python",
   "nbconvert_exporter": "python",
   "pygments_lexer": "ipython3",
   "version": "3.8.5"
  }
 },
 "nbformat": 4,
 "nbformat_minor": 4
}
